{
 "cells": [
  {
   "cell_type": "markdown",
   "metadata": {
    "lines_to_next_cell": 1
   },
   "source": [
    "# Chapter 08 Feature Selection"
   ]
  },
  {
   "cell_type": "code",
   "execution_count": 1,
   "metadata": {},
   "outputs": [],
   "source": [
    "import matplotlib.pyplot as plt\n",
    "import numpy as np\n",
    "import pandas as pd\n",
    "from sklearn.experimental import (\n",
    "    enable_iterative_imputer,\n",
    ")\n",
    "from sklearn import (\n",
    "    ensemble,\n",
    "    impute,\n",
    "    model_selection,    \n",
    "    preprocessing,\n",
    "    tree,\n",
    ")\n",
    "\n",
    "url = (\n",
    "    \"http://biostat.mc.vanderbilt.edu/\"\n",
    "    \"wiki/pub/Main/DataSets/titanic3.xls\"\n",
    ")\n",
    "df = pd.read_excel(url)\n",
    "orig_df = df\n",
    "agg = (\n",
    "     df.groupby(\"cabin\")\n",
    "     .agg(\"min,max,mean,sum\".split(\",\"))\n",
    "     .reset_index()\n",
    ")\n",
    "agg.columns = [\n",
    "     \"_\".join(c).strip(\"_\")\n",
    "     for c in agg.columns.values\n",
    "]\n",
    "agg_df = df.merge(agg, on=\"cabin\")"
   ]
  },
  {
   "cell_type": "code",
   "execution_count": 4,
   "metadata": {},
   "outputs": [],
   "source": [
    "import warnings\n",
    "warnings.filterwarnings('ignore')"
   ]
  },
  {
   "cell_type": "markdown",
   "metadata": {},
   "source": [
    "## Prepare the data"
   ]
  },
  {
   "cell_type": "code",
   "execution_count": 2,
   "metadata": {},
   "outputs": [],
   "source": [
    "def tweak_titanic(df):\n",
    "    df = df.drop(\n",
    "        columns=[\n",
    "            \"name\",\n",
    "            \"ticket\",\n",
    "            \"home.dest\",\n",
    "            \"boat\",\n",
    "            \"body\",\n",
    "            \"cabin\",\n",
    "        ]\n",
    "    ).pipe(pd.get_dummies, drop_first=True)\n",
    "    return df\n",
    "\n",
    "def get_train_test_X_y(\n",
    "    df, y_col, size=0.3, std_cols=None\n",
    "):\n",
    "    y = df[y_col]\n",
    "    X = df.drop(columns=y_col)\n",
    "    X_train, X_test, y_train, y_test = model_selection.train_test_split(\n",
    "        X, y, test_size=size, random_state=42\n",
    "    )\n",
    "    cols = X.columns\n",
    "    num_cols = [\n",
    "        \"pclass\",\n",
    "        \"age\",\n",
    "        \"sibsp\",\n",
    "        \"parch\",\n",
    "        \"fare\",\n",
    "    ]\n",
    "    fi = impute.IterativeImputer()\n",
    "    X_train.loc[\n",
    "        :, num_cols\n",
    "    ] = fi.fit_transform(X_train[num_cols])\n",
    "    X_test.loc[:, num_cols] = fi.transform(\n",
    "        X_test[num_cols]\n",
    "    )\n",
    "\n",
    "    if std_cols:\n",
    "        std = preprocessing.StandardScaler()\n",
    "        X_train.loc[\n",
    "            :, std_cols\n",
    "        ] = std.fit_transform(\n",
    "            X_train[std_cols]\n",
    "        )\n",
    "        X_test.loc[\n",
    "            :, std_cols\n",
    "        ] = std.transform(X_test[std_cols])\n",
    "\n",
    "    return X_train, X_test, y_train, y_test"
   ]
  },
  {
   "cell_type": "code",
   "execution_count": 5,
   "metadata": {},
   "outputs": [],
   "source": [
    "ti_df = tweak_titanic(orig_df)\n",
    "std_cols = \"pclass,age,sibsp,fare\".split(\",\")\n",
    "X_train, X_test, y_train, y_test = get_train_test_X_y(\n",
    "    ti_df, \"survived\", std_cols=std_cols\n",
    ")\n",
    "\n",
    "X = pd.concat([X_train, X_test])\n",
    "y = pd.concat([y_train, y_test])"
   ]
  },
  {
   "cell_type": "markdown",
   "metadata": {},
   "source": [
    "## Collinear Columns"
   ]
  },
  {
   "cell_type": "code",
   "execution_count": 6,
   "metadata": {
    "lines_to_next_cell": 2
   },
   "outputs": [
    {
     "data": {
      "text/plain": [
       "['pclass_min',\n",
       " 'pclass_max',\n",
       " 'pclass_mean',\n",
       " 'sibsp_mean',\n",
       " 'parch_mean',\n",
       " 'fare_mean',\n",
       " 'body_min',\n",
       " 'body_max',\n",
       " 'body_mean',\n",
       " 'body_sum']"
      ]
     },
     "execution_count": 6,
     "metadata": {},
     "output_type": "execute_result"
    }
   ],
   "source": [
    "limit = 0.95\n",
    "corr = agg_df.corr()\n",
    "mask = np.triu(\n",
    "    np.ones(corr.shape), k=1\n",
    ").astype(bool)\n",
    "corr_no_diag = corr.where(mask)\n",
    "coll = [\n",
    "    c\n",
    "    for c in corr_no_diag.columns\n",
    "    if any(abs(corr_no_diag[c]) > limit)\n",
    "]\n",
    "coll"
   ]
  },
  {
   "cell_type": "code",
   "execution_count": 9,
   "metadata": {
    "lines_to_next_cell": 2
   },
   "outputs": [
    {
     "data": {
      "text/plain": [
       "0.7557251908396947"
      ]
     },
     "execution_count": 9,
     "metadata": {},
     "output_type": "execute_result"
    }
   ],
   "source": [
    "# accuracy with less features\n",
    "from sklearn.ensemble import RandomForestClassifier\n",
    "cols_to_remove = [\n",
    "    \"pclass\",\n",
    "    \"sibsp\",\n",
    "    \"parch\",\n",
    "    \"embarked_Q\",\n",
    "]\n",
    "rf3 = RandomForestClassifier(random_state=42)\n",
    "rf3.fit(\n",
    "    X_train[\n",
    "        [\n",
    "            c\n",
    "            for c in X_train.columns\n",
    "            if c not in cols_to_remove\n",
    "        ]\n",
    "    ],\n",
    "    y_train,\n",
    ")\n",
    "rf3.score(\n",
    "    X_test[\n",
    "        [\n",
    "            c\n",
    "            for c in X_train.columns\n",
    "            if c not in cols_to_remove\n",
    "        ]\n",
    "    ],\n",
    "    y_test,\n",
    ")"
   ]
  },
  {
   "cell_type": "code",
   "execution_count": 10,
   "metadata": {},
   "outputs": [
    {
     "data": {
      "text/plain": [
       "0.7659033078880407"
      ]
     },
     "execution_count": 10,
     "metadata": {},
     "output_type": "execute_result"
    }
   ],
   "source": [
    "# without removing features\n",
    "rf4 = RandomForestClassifier(random_state=42)\n",
    "rf4.fit(X_train, y_train)\n",
    "rf4.score(X_test, y_test)"
   ]
  },
  {
   "cell_type": "markdown",
   "metadata": {},
   "source": [
    "## Lesso Regression"
   ]
  },
  {
   "cell_type": "code",
   "execution_count": 11,
   "metadata": {
    "lines_to_next_cell": 2
   },
   "outputs": [
    {
     "data": {
      "text/plain": [
       "Text(0.5,1,'Regression Coefficients Progression for Lasso Paths')"
      ]
     },
     "execution_count": 11,
     "metadata": {},
     "output_type": "execute_result"
    },
    {
     "data": {
      "image/png": "[encoded data removed]",
      "text/plain": [
       "<Figure size 864x576 with 1 Axes>"
      ]
     },
     "metadata": {},
     "output_type": "display_data"
    }
   ],
   "source": [
    "from sklearn import linear_model\n",
    "model = linear_model.LassoLarsCV(\n",
    "    cv=10, max_n_alphas=10\n",
    ").fit(X_train, y_train)\n",
    "fig, ax = plt.subplots(figsize=(12, 8))\n",
    "cm = iter(\n",
    "    plt.get_cmap(\"tab20\")(\n",
    "        np.linspace(0, 1, X.shape[1])\n",
    "    )\n",
    ")\n",
    "for i in range(X.shape[1]):\n",
    "    c = next(cm)\n",
    "    ax.plot(\n",
    "        model.alphas_,\n",
    "        model.coef_path_.T[:, i],\n",
    "        c=c,\n",
    "        alpha=0.8,\n",
    "        label=X.columns[i],\n",
    "    )\n",
    "ax.axvline(\n",
    "    model.alpha_,\n",
    "    linestyle=\"-\",\n",
    "    c=\"k\",\n",
    "    label=\"alphaCV\",\n",
    ")\n",
    "plt.ylabel(\"Regression Coefficients\")\n",
    "ax.legend(X.columns, bbox_to_anchor=(1, 1))\n",
    "plt.xlabel(\"alpha\")\n",
    "plt.title(\n",
    "    \"Regression Coefficients Progression for Lasso Paths\"\n",
    ")\n",
    "# fig.savefig(\n",
    "#     \"images/mlpr_0802.png\",\n",
    "#     dpi=300,\n",
    "#     bbox_inches=\"tight\",\n",
    "# )"
   ]
  },
  {
   "cell_type": "markdown",
   "metadata": {},
   "source": [
    "## Recursive Feature Elimination"
   ]
  },
  {
   "cell_type": "code",
   "execution_count": 14,
   "metadata": {
    "lines_to_next_cell": 2
   },
   "outputs": [
    {
     "data": {
      "text/plain": [
       "Index(['pclass', 'age', 'fare', 'sex_male'], dtype='object')"
      ]
     },
     "execution_count": 14,
     "metadata": {},
     "output_type": "execute_result"
    }
   ],
   "source": [
    "from sklearn.feature_selection import RFE\n",
    "model = ensemble.RandomForestClassifier(\n",
    "    n_estimators=100\n",
    ")\n",
    "rfe = RFE(model, 4)\n",
    "rfe.fit(X, y)\n",
    "X.columns[rfe.support_]"
   ]
  },
  {
   "cell_type": "markdown",
   "metadata": {},
   "source": [
    "## Mutual Information"
   ]
  },
  {
   "cell_type": "code",
   "execution_count": 15,
   "metadata": {
    "lines_to_next_cell": 2
   },
   "outputs": [
    {
     "data": {
      "text/plain": [
       "<matplotlib.axes._subplots.AxesSubplot at 0x129be8fdda0>"
      ]
     },
     "execution_count": 15,
     "metadata": {},
     "output_type": "execute_result"
    },
    {
     "data": {
      "image/png": "[encoded data removed]",
      "text/plain": [
       "<Figure size 720x576 with 1 Axes>"
      ]
     },
     "metadata": {},
     "output_type": "display_data"
    }
   ],
   "source": [
    "from sklearn import feature_selection\n",
    "mic = feature_selection.mutual_info_classif(\n",
    "    X, y\n",
    ")\n",
    "fig, ax = plt.subplots(figsize=(10, 8))\n",
    "(\n",
    "    pd.DataFrame(\n",
    "        {\"feature\": X.columns, \"vimp\": mic}\n",
    "    )\n",
    "    .set_index(\"feature\")\n",
    "    .plot.barh(ax=ax)\n",
    ")\n",
    "# fig.savefig(\"images/mlpr_0804.png\")"
   ]
  },
  {
   "cell_type": "code",
   "execution_count": null,
   "metadata": {},
   "outputs": [],
   "source": [
    "# https://github.com/mattharrison/ml_pocket_reference"
   ]
  }
 ],
 "metadata": {
  "jupytext": {
   "formats": "ipynb,py:light"
  },
  "kernelspec": {
   "display_name": "Python 3",
   "language": "python",
   "name": "python3"
  },
  "language_info": {
   "codemirror_mode": {
    "name": "ipython",
    "version": 3
   },
   "file_extension": ".py",
   "mimetype": "text/x-python",
   "name": "python",
   "nbconvert_exporter": "python",
   "pygments_lexer": "ipython3",
   "version": "3.5.5"
  }
 },
 "nbformat": 4,
 "nbformat_minor": 2
}
