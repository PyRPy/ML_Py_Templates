{
 "cells": [
  {
   "cell_type": "code",
   "execution_count": 8,
   "metadata": {
    "lines_to_next_cell": 0
   },
   "outputs": [],
   "source": [
    "# Chapter 18 Clustering\n",
    "import warnings\n",
    "warnings.filterwarnings(\"ignore\")"
   ]
  },
  {
   "cell_type": "code",
   "execution_count": 2,
   "metadata": {},
   "outputs": [],
   "source": [
    "import matplotlib.pyplot as plt\n",
    "import numpy as np\n",
    "import pandas as pd \n",
    "import seaborn as sns\n",
    "from sklearn.experimental import (\n",
    "    enable_iterative_imputer,\n",
    ")\n",
    "from sklearn import (\n",
    "    ensemble,\n",
    "    impute,\n",
    "    model_selection,    \n",
    "    preprocessing,\n",
    "    tree,\n",
    ")\n",
    "from sklearn.ensemble import (\n",
    "    RandomForestClassifier,\n",
    ")\n",
    "\n",
    "url = (\n",
    "    \"http://biostat.mc.vanderbilt.edu/\"\n",
    "    \"wiki/pub/Main/DataSets/titanic3.xls\"\n",
    ")\n",
    "df = pd.read_excel(url)\n",
    "def tweak_titanic(df):\n",
    "    df = df.drop(\n",
    "        columns=[\n",
    "            \"name\",\n",
    "            \"ticket\",\n",
    "            \"home.dest\",\n",
    "            \"boat\",\n",
    "            \"body\",\n",
    "            \"cabin\",\n",
    "        ]\n",
    "    ).pipe(pd.get_dummies, drop_first=True)\n",
    "    return df\n",
    "\n",
    "def get_train_test_X_y(\n",
    "    df, y_col, size=0.3, std_cols=None\n",
    "):\n",
    "    y = df[y_col]\n",
    "    X = df.drop(columns=y_col)\n",
    "    X_train, X_test, y_train, y_test = model_selection.train_test_split(\n",
    "        X, y, test_size=size, random_state=42\n",
    "    )\n",
    "    cols = X.columns\n",
    "    num_cols = [\n",
    "        \"pclass\",\n",
    "        \"age\",\n",
    "        \"sibsp\",\n",
    "        \"parch\",\n",
    "        \"fare\",\n",
    "    ]\n",
    "    fi = impute.IterativeImputer()\n",
    "\n",
    "    fitted = fi.fit_transform(X_train[num_cols])\n",
    "    X_train = X_train.assign(**{c:fitted[:,i] for i, c in enumerate(num_cols)})\n",
    "    test_fit = fi.transform(X_test[num_cols])\n",
    "    X_test = X_test.assign(**{c:test_fit[:,i] for i, c in enumerate(num_cols)})\n",
    "    if std_cols:\n",
    "        std = preprocessing.StandardScaler()\n",
    "        fitted = std.fit_transform(X_train[std_cols])\n",
    "        X_train = X_train.assign(**{c:fitted[:,i] for i, c in enumerate(std_cols)})\n",
    "        test_fit = std.transform(X_test[std_cols])\n",
    "        X_test = X_test.assign(**{c:test_fit[:,i] for i, c in enumerate(std_cols)})\n",
    "\n",
    "    return X_train, X_test, y_train, y_test\n",
    "\n",
    "ti_df = tweak_titanic(df)\n",
    "std_cols = \"pclass,age,sibsp,fare\".split(\",\")\n",
    "X_train, X_test, y_train, y_test = get_train_test_X_y(\n",
    "    ti_df, \"survived\", std_cols=std_cols\n",
    ")\n",
    "\n",
    "\n",
    "X = pd.concat([X_train, X_test])\n",
    "y = pd.concat([y_train, y_test])"
   ]
  },
  {
   "cell_type": "code",
   "execution_count": 3,
   "metadata": {
    "lines_to_next_cell": 2
   },
   "outputs": [],
   "source": [
    "ti_df = tweak_titanic(df)\n",
    "std_cols = \"pclass,age,sibsp,fare\".split(\",\")\n",
    "X_train, X_test, y_train, y_test = get_train_test_X_y(\n",
    "    ti_df, \"survived\", std_cols=std_cols\n",
    ")\n",
    "X = pd.concat([X_train, X_test])\n",
    "y = pd.concat([y_train, y_test])"
   ]
  },
  {
   "cell_type": "markdown",
   "metadata": {},
   "source": [
    "## KMeans"
   ]
  },
  {
   "cell_type": "code",
   "execution_count": 4,
   "metadata": {
    "lines_to_next_cell": 2
   },
   "outputs": [
    {
     "data": {
      "text/plain": [
       "KMeans(algorithm='auto', copy_x=True, init='k-means++', max_iter=300,\n",
       "       n_clusters=2, n_init=10, n_jobs=None, precompute_distances='auto',\n",
       "       random_state=42, tol=0.0001, verbose=0)"
      ]
     },
     "execution_count": 4,
     "metadata": {},
     "output_type": "execute_result"
    }
   ],
   "source": [
    "from sklearn.cluster import KMeans\n",
    "X_std = preprocessing.StandardScaler().fit_transform(\n",
    "    X\n",
    ")\n",
    "km = KMeans(2, random_state=42)\n",
    "km.fit(X_std)"
   ]
  },
  {
   "cell_type": "code",
   "execution_count": 5,
   "metadata": {
    "lines_to_next_cell": 2
   },
   "outputs": [
    {
     "data": {
      "text/plain": [
       "array([1, 1, 1, ..., 1, 1, 1])"
      ]
     },
     "execution_count": 5,
     "metadata": {},
     "output_type": "execute_result"
    }
   ],
   "source": [
    "X_km = km.predict(X)\n",
    "X_km"
   ]
  },
  {
   "cell_type": "code",
   "execution_count": 6,
   "metadata": {
    "lines_to_next_cell": 2
   },
   "outputs": [
    {
     "data": {
      "text/plain": [
       "Text(0,0.5,'Inertia')"
      ]
     },
     "execution_count": 6,
     "metadata": {},
     "output_type": "execute_result"
    },
    {
     "data": {
      "image/png": "[encoded data removed]",
      "text/plain": [
       "<Figure size 432x288 with 1 Axes>"
      ]
     },
     "metadata": {},
     "output_type": "display_data"
    }
   ],
   "source": [
    "inertias = []\n",
    "sizes = range(2, 12)\n",
    "for k in sizes:\n",
    "    k2 = KMeans(random_state=42, n_clusters=k)\n",
    "    k2.fit(X)\n",
    "    inertias.append(k2.inertia_)\n",
    "fig, ax = plt.subplots(figsize=(6, 4))\n",
    "pd.Series(inertias, index=sizes).plot(ax=ax)\n",
    "ax.set_xlabel(\"K\")\n",
    "ax.set_ylabel(\"Inertia\")\n",
    "#fig.savefig(\"images/mlpr_1801.png\", dpi=300)"
   ]
  },
  {
   "cell_type": "code",
   "execution_count": 9,
   "metadata": {
    "lines_to_next_cell": 2
   },
   "outputs": [
    {
     "data": {
      "text/plain": [
       "array([[<matplotlib.axes._subplots.AxesSubplot object at 0x0000028FA629C9B0>,\n",
       "        <matplotlib.axes._subplots.AxesSubplot object at 0x0000028FA62E3A58>],\n",
       "       [<matplotlib.axes._subplots.AxesSubplot object at 0x0000028FA63000F0>,\n",
       "        <matplotlib.axes._subplots.AxesSubplot object at 0x0000028FA6317780>]],\n",
       "      dtype=object)"
      ]
     },
     "execution_count": 9,
     "metadata": {},
     "output_type": "execute_result"
    },
    {
     "data": {
      "image/png": "[encoded data removed]",
      "text/plain": [
       "<Figure size 432x288 with 4 Axes>"
      ]
     },
     "metadata": {},
     "output_type": "display_data"
    }
   ],
   "source": [
    "from sklearn import metrics\n",
    "inertias = []\n",
    "sils = []\n",
    "chs = []\n",
    "dbs = []\n",
    "sizes = range(2, 12)\n",
    "for k in sizes:\n",
    "    k2 = KMeans(random_state=42, n_clusters=k)\n",
    "    k2.fit(X_std)\n",
    "    inertias.append(k2.inertia_)\n",
    "    sils.append(\n",
    "        metrics.silhouette_score(X, k2.labels_)\n",
    "    )\n",
    "    chs.append(\n",
    "        metrics.calinski_harabasz_score(\n",
    "            X, k2.labels_\n",
    "        )\n",
    "    )\n",
    "    dbs.append(\n",
    "        metrics.davies_bouldin_score(\n",
    "            X, k2.labels_\n",
    "        )\n",
    "    )\n",
    "fig, ax = plt.subplots(figsize=(6, 4))\n",
    "(\n",
    "    pd.DataFrame(\n",
    "        {\n",
    "            \"inertia\": inertias,\n",
    "            \"silhouette\": sils,\n",
    "            \"calinski\": chs,\n",
    "            \"davis\": dbs,\n",
    "            \"k\": sizes,\n",
    "        }\n",
    "    )\n",
    "    .set_index(\"k\")\n",
    "    .plot(ax=ax, subplots=True, layout=(2, 2))\n",
    ")\n",
    "#fig.savefig(\"images/mlpr_1802.png\", dpi=300)"
   ]
  },
  {
   "cell_type": "markdown",
   "metadata": {},
   "source": [
    "## Heirarchy cluster"
   ]
  },
  {
   "cell_type": "code",
   "execution_count": 10,
   "metadata": {
    "lines_to_next_cell": 2
   },
   "outputs": [
    {
     "data": {
      "image/png": "[encoded data removed]",
      "text/plain": [
       "<Figure size 432x288 with 1 Axes>"
      ]
     },
     "metadata": {},
     "output_type": "display_data"
    }
   ],
   "source": [
    "from scipy.cluster import hierarchy\n",
    "fig, ax = plt.subplots(figsize=(6, 4))\n",
    "dend = hierarchy.dendrogram(\n",
    "    hierarchy.linkage(X_std, method=\"ward\")\n",
    ")\n",
    "#fig.savefig(\"images/mlpr_1804.png\", dpi=300)"
   ]
  },
  {
   "cell_type": "code",
   "execution_count": 11,
   "metadata": {
    "lines_to_next_cell": 2
   },
   "outputs": [
    {
     "data": {
      "image/png": "[encoded data removed]",
      "text/plain": [
       "<Figure size 432x288 with 1 Axes>"
      ]
     },
     "metadata": {},
     "output_type": "display_data"
    }
   ],
   "source": [
    "from scipy.cluster import hierarchy\n",
    "fig, ax = plt.subplots(figsize=(6, 4))\n",
    "dend = hierarchy.dendrogram(\n",
    "    hierarchy.linkage(X_std, method=\"ward\"),\n",
    "    truncate_mode=\"lastp\",\n",
    "    p=20,\n",
    "    show_contracted=True,\n",
    ")\n",
    "#fig.savefig(\"images/mlpr_1805.png\", dpi=300)"
   ]
  },
  {
   "cell_type": "code",
   "execution_count": 12,
   "metadata": {
    "lines_to_next_cell": 2
   },
   "outputs": [
    {
     "data": {
      "text/plain": [
       "AgglomerativeClustering(affinity='euclidean', compute_full_tree='auto',\n",
       "                        connectivity=None, distance_threshold=None,\n",
       "                        linkage='ward', memory=None, n_clusters=4,\n",
       "                        pooling_func='deprecated')"
      ]
     },
     "execution_count": 12,
     "metadata": {},
     "output_type": "execute_result"
    }
   ],
   "source": [
    "from sklearn.cluster import (\n",
    "    AgglomerativeClustering,\n",
    ")\n",
    "ag = AgglomerativeClustering(\n",
    "    n_clusters=4,\n",
    "    affinity=\"euclidean\",\n",
    "    linkage=\"ward\",\n",
    ")\n",
    "ag.fit(X)"
   ]
  },
  {
   "cell_type": "code",
   "execution_count": 13,
   "metadata": {},
   "outputs": [
    {
     "data": {
      "text/html": [
       "<div>\n",
       "<style scoped>\n",
       "    .dataframe tbody tr th:only-of-type {\n",
       "        vertical-align: middle;\n",
       "    }\n",
       "\n",
       "    .dataframe tbody tr th {\n",
       "        vertical-align: top;\n",
       "    }\n",
       "\n",
       "    .dataframe thead th {\n",
       "        text-align: right;\n",
       "    }\n",
       "</style>\n",
       "<table border=\"1\" class=\"dataframe\">\n",
       "  <thead>\n",
       "    <tr style=\"text-align: right;\">\n",
       "      <th></th>\n",
       "      <th>cluster</th>\n",
       "      <th>0</th>\n",
       "      <th>1</th>\n",
       "    </tr>\n",
       "  </thead>\n",
       "  <tbody>\n",
       "    <tr>\n",
       "      <th rowspan=\"2\" valign=\"top\">pclass</th>\n",
       "      <th>mean</th>\n",
       "      <td>0.526538</td>\n",
       "      <td>-1.423831</td>\n",
       "    </tr>\n",
       "    <tr>\n",
       "      <th>var</th>\n",
       "      <td>0.266089</td>\n",
       "      <td>0.136175</td>\n",
       "    </tr>\n",
       "    <tr>\n",
       "      <th rowspan=\"2\" valign=\"top\">age</th>\n",
       "      <th>mean</th>\n",
       "      <td>-0.280031</td>\n",
       "      <td>0.920903</td>\n",
       "    </tr>\n",
       "    <tr>\n",
       "      <th>var</th>\n",
       "      <td>0.653873</td>\n",
       "      <td>1.147624</td>\n",
       "    </tr>\n",
       "    <tr>\n",
       "      <th rowspan=\"2\" valign=\"top\">sibsp</th>\n",
       "      <th>mean</th>\n",
       "      <td>-0.010464</td>\n",
       "      <td>-0.107849</td>\n",
       "    </tr>\n",
       "    <tr>\n",
       "      <th>var</th>\n",
       "      <td>1.163848</td>\n",
       "      <td>0.303881</td>\n",
       "    </tr>\n",
       "    <tr>\n",
       "      <th rowspan=\"2\" valign=\"top\">parch</th>\n",
       "      <th>mean</th>\n",
       "      <td>0.387540</td>\n",
       "      <td>0.378453</td>\n",
       "    </tr>\n",
       "    <tr>\n",
       "      <th>var</th>\n",
       "      <td>0.829570</td>\n",
       "      <td>0.540587</td>\n",
       "    </tr>\n",
       "    <tr>\n",
       "      <th rowspan=\"2\" valign=\"top\">fare</th>\n",
       "      <th>mean</th>\n",
       "      <td>-0.349338</td>\n",
       "      <td>0.886396</td>\n",
       "    </tr>\n",
       "    <tr>\n",
       "      <th>var</th>\n",
       "      <td>0.056314</td>\n",
       "      <td>2.225435</td>\n",
       "    </tr>\n",
       "    <tr>\n",
       "      <th rowspan=\"2\" valign=\"top\">sex_male</th>\n",
       "      <th>mean</th>\n",
       "      <td>0.678986</td>\n",
       "      <td>0.552486</td>\n",
       "    </tr>\n",
       "    <tr>\n",
       "      <th>var</th>\n",
       "      <td>0.218194</td>\n",
       "      <td>0.247930</td>\n",
       "    </tr>\n",
       "    <tr>\n",
       "      <th rowspan=\"2\" valign=\"top\">embarked_Q</th>\n",
       "      <th>mean</th>\n",
       "      <td>0.123548</td>\n",
       "      <td>0.016575</td>\n",
       "    </tr>\n",
       "    <tr>\n",
       "      <th>var</th>\n",
       "      <td>0.108398</td>\n",
       "      <td>0.016345</td>\n",
       "    </tr>\n",
       "    <tr>\n",
       "      <th rowspan=\"2\" valign=\"top\">embarked_S</th>\n",
       "      <th>mean</th>\n",
       "      <td>0.741288</td>\n",
       "      <td>0.585635</td>\n",
       "    </tr>\n",
       "    <tr>\n",
       "      <th>var</th>\n",
       "      <td>0.191983</td>\n",
       "      <td>0.243339</td>\n",
       "    </tr>\n",
       "    <tr>\n",
       "      <th rowspan=\"2\" valign=\"top\">survived</th>\n",
       "      <th>mean</th>\n",
       "      <td>0.299894</td>\n",
       "      <td>0.596685</td>\n",
       "    </tr>\n",
       "    <tr>\n",
       "      <th>var</th>\n",
       "      <td>0.210180</td>\n",
       "      <td>0.241319</td>\n",
       "    </tr>\n",
       "  </tbody>\n",
       "</table>\n",
       "</div>"
      ],
      "text/plain": [
       "cluster                 0         1\n",
       "pclass     mean  0.526538 -1.423831\n",
       "           var   0.266089  0.136175\n",
       "age        mean -0.280031  0.920903\n",
       "           var   0.653873  1.147624\n",
       "sibsp      mean -0.010464 -0.107849\n",
       "           var   1.163848  0.303881\n",
       "parch      mean  0.387540  0.378453\n",
       "           var   0.829570  0.540587\n",
       "fare       mean -0.349338  0.886396\n",
       "           var   0.056314  2.225435\n",
       "sex_male   mean  0.678986  0.552486\n",
       "           var   0.218194  0.247930\n",
       "embarked_Q mean  0.123548  0.016575\n",
       "           var   0.108398  0.016345\n",
       "embarked_S mean  0.741288  0.585635\n",
       "           var   0.191983  0.243339\n",
       "survived   mean  0.299894  0.596685\n",
       "           var   0.210180  0.241319"
      ]
     },
     "execution_count": 13,
     "metadata": {},
     "output_type": "execute_result"
    }
   ],
   "source": [
    "km = KMeans(n_clusters=2)\n",
    "km.fit(X_std)\n",
    "labels = km.predict(X_std)\n",
    "(\n",
    "    X.assign(cluster=labels, survived=y)\n",
    "    .groupby(\"cluster\")\n",
    "    .agg([\"mean\", \"var\"])\n",
    "    .T\n",
    ")"
   ]
  },
  {
   "cell_type": "code",
   "execution_count": 14,
   "metadata": {
    "lines_to_next_cell": 2
   },
   "outputs": [
    {
     "data": {
      "text/plain": [
       "<matplotlib.axes._subplots.AxesSubplot at 0x28fa6b2d748>"
      ]
     },
     "execution_count": 14,
     "metadata": {},
     "output_type": "execute_result"
    },
    {
     "data": {
      "image/png": "[encoded data removed]",
      "text/plain": [
       "<Figure size 432x288 with 1 Axes>"
      ]
     },
     "metadata": {},
     "output_type": "display_data"
    }
   ],
   "source": [
    "fig, ax = plt.subplots(figsize=(6, 4))\n",
    "(\n",
    "    X.assign(cluster=labels, survived=y)\n",
    "    .groupby(\"cluster\")\n",
    "    .mean()\n",
    "    .T.plot.bar(ax=ax)\n",
    ")\n",
    "# fig.savefig(\n",
    "#     \"images/mlpr_1806.png\",\n",
    "#     dpi=300,\n",
    "#     bbox_inches=\"tight\",\n",
    "# )"
   ]
  },
  {
   "cell_type": "code",
   "execution_count": 21,
   "metadata": {
    "lines_to_next_cell": 2
   },
   "outputs": [
    {
     "ename": "AttributeError",
     "evalue": "module 'seaborn' has no attribute 'scatterplot'",
     "output_type": "error",
     "traceback": [
      "\u001b[1;31m---------------------------------------------------------------------------\u001b[0m",
      "\u001b[1;31mAttributeError\u001b[0m                            Traceback (most recent call last)",
      "\u001b[1;32m<ipython-input-21-e71e782db46c>\u001b[0m in \u001b[0;36m<module>\u001b[1;34m()\u001b[0m\n\u001b[0;32m     12\u001b[0m )\n\u001b[0;32m     13\u001b[0m \u001b[1;33m\u001b[0m\u001b[0m\n\u001b[1;32m---> 14\u001b[1;33m seaborn.scatterplot(\n\u001b[0m\u001b[0;32m     15\u001b[0m     \u001b[1;34m\"PC1\"\u001b[0m\u001b[1;33m,\u001b[0m\u001b[1;33m\u001b[0m\u001b[0m\n\u001b[0;32m     16\u001b[0m     \u001b[1;34m\"PC2\"\u001b[0m\u001b[1;33m,\u001b[0m\u001b[1;33m\u001b[0m\u001b[0m\n",
      "\u001b[1;31mAttributeError\u001b[0m: module 'seaborn' has no attribute 'scatterplot'"
     ]
    },
    {
     "data": {
      "image/png": "[encoded data removed]",
      "text/plain": [
       "<Figure size 432x288 with 1 Axes>"
      ]
     },
     "metadata": {},
     "output_type": "display_data"
    }
   ],
   "source": [
    "from sklearn.decomposition import PCA\n",
    "from sklearn.preprocessing import (\n",
    "    StandardScaler,\n",
    ")\n",
    "\n",
    "import seaborn\n",
    "\n",
    "fig, ax = plt.subplots(figsize=(6, 4))\n",
    "pca = PCA(random_state=42)\n",
    "X_pca = pca.fit_transform(\n",
    "    StandardScaler().fit_transform(X)\n",
    ")\n",
    "\n",
    "seaborn.scatterplot(\n",
    "    \"PC1\",\n",
    "    \"PC2\",\n",
    "    data=X.assign(\n",
    "        PC1=X_pca[:, 0],\n",
    "        PC2=X_pca[:, 1],\n",
    "        cluster=labels,\n",
    "    ),\n",
    "    hue=\"cluster\",\n",
    "    alpha=0.5,\n",
    "    ax=ax,\n",
    ")\n",
    "# fig.savefig(\n",
    "#     \"images/mlpr_1807.png\",\n",
    "#     dpi=300,\n",
    "#     bbox_inches=\"tight\",\n",
    "# )"
   ]
  },
  {
   "cell_type": "code",
   "execution_count": 22,
   "metadata": {
    "lines_to_next_cell": 2
   },
   "outputs": [
    {
     "data": {
      "text/html": [
       "<div>\n",
       "<style scoped>\n",
       "    .dataframe tbody tr th:only-of-type {\n",
       "        vertical-align: middle;\n",
       "    }\n",
       "\n",
       "    .dataframe tbody tr th {\n",
       "        vertical-align: top;\n",
       "    }\n",
       "\n",
       "    .dataframe thead th {\n",
       "        text-align: right;\n",
       "    }\n",
       "</style>\n",
       "<table border=\"1\" class=\"dataframe\">\n",
       "  <thead>\n",
       "    <tr style=\"text-align: right;\">\n",
       "      <th>cluster</th>\n",
       "      <th>0</th>\n",
       "      <th>1</th>\n",
       "    </tr>\n",
       "  </thead>\n",
       "  <tbody>\n",
       "    <tr>\n",
       "      <th>count</th>\n",
       "      <td>947.000000</td>\n",
       "      <td>362.000000</td>\n",
       "    </tr>\n",
       "    <tr>\n",
       "      <th>mean</th>\n",
       "      <td>-0.280031</td>\n",
       "      <td>0.920903</td>\n",
       "    </tr>\n",
       "    <tr>\n",
       "      <th>std</th>\n",
       "      <td>0.808624</td>\n",
       "      <td>1.071272</td>\n",
       "    </tr>\n",
       "    <tr>\n",
       "      <th>min</th>\n",
       "      <td>-2.221251</td>\n",
       "      <td>-2.162722</td>\n",
       "    </tr>\n",
       "    <tr>\n",
       "      <th>25%</th>\n",
       "      <td>-0.622359</td>\n",
       "      <td>0.184938</td>\n",
       "    </tr>\n",
       "    <tr>\n",
       "      <th>50%</th>\n",
       "      <td>-0.172144</td>\n",
       "      <td>0.809247</td>\n",
       "    </tr>\n",
       "    <tr>\n",
       "      <th>75%</th>\n",
       "      <td>0.106899</td>\n",
       "      <td>1.667672</td>\n",
       "    </tr>\n",
       "    <tr>\n",
       "      <th>max</th>\n",
       "      <td>3.540599</td>\n",
       "      <td>4.008830</td>\n",
       "    </tr>\n",
       "  </tbody>\n",
       "</table>\n",
       "</div>"
      ],
      "text/plain": [
       "cluster           0           1\n",
       "count    947.000000  362.000000\n",
       "mean      -0.280031    0.920903\n",
       "std        0.808624    1.071272\n",
       "min       -2.221251   -2.162722\n",
       "25%       -0.622359    0.184938\n",
       "50%       -0.172144    0.809247\n",
       "75%        0.106899    1.667672\n",
       "max        3.540599    4.008830"
      ]
     },
     "execution_count": 22,
     "metadata": {},
     "output_type": "execute_result"
    }
   ],
   "source": [
    "(\n",
    "    X.assign(cluster=labels)\n",
    "    .groupby(\"cluster\")\n",
    "    .age.describe()\n",
    "    .T\n",
    ")"
   ]
  },
  {
   "cell_type": "code",
   "execution_count": 25,
   "metadata": {
    "lines_to_next_cell": 2
   },
   "outputs": [
    {
     "name": "stdout",
     "output_type": "stream",
     "text": [
      "pclass 0.904764082941484\n",
      "age 0.07630094141912722\n",
      "sex_male 0.015637245464498725\n",
      "embarked_S 0.003021149392067736\n",
      "fare 0.0002765807828222184\n",
      "sibsp 0.0\n",
      "parch 0.0\n",
      "embarked_Q 0.0\n"
     ]
    }
   ],
   "source": [
    "dt = tree.DecisionTreeClassifier()\n",
    "dt.fit(X, labels)\n",
    "for col, val in sorted(\n",
    "    zip(X.columns, dt.feature_importances_),\n",
    "    key=lambda col_val: col_val[1],\n",
    "    reverse=True,\n",
    "):\n",
    "    print(col, val)"
   ]
  },
  {
   "cell_type": "code",
   "execution_count": 26,
   "metadata": {
    "lines_to_next_cell": 2
   },
   "outputs": [],
   "source": [
    "from io import StringIO\n",
    "import pydotplus\n",
    "dot_data = StringIO()\n",
    "tree.export_graphviz(\n",
    "    dt,\n",
    "    out_file=dot_data,\n",
    "    feature_names=X.columns,\n",
    "    class_names=[\"0\", \"1\"],\n",
    "    max_depth=2,\n",
    "    filled=True,\n",
    ")\n",
    "g = pydotplus.graph_from_dot_data(\n",
    "    dot_data.getvalue()\n",
    ")\n",
    "#g.write_png(\"images/mlpr_1808.png\")"
   ]
  }
 ],
 "metadata": {
  "jupytext": {
   "formats": "ipynb,py:light"
  },
  "kernelspec": {
   "display_name": "Python 3",
   "language": "python",
   "name": "python3"
  },
  "language_info": {
   "codemirror_mode": {
    "name": "ipython",
    "version": 3
   },
   "file_extension": ".py",
   "mimetype": "text/x-python",
   "name": "python",
   "nbconvert_exporter": "python",
   "pygments_lexer": "ipython3",
   "version": "3.5.5"
  }
 },
 "nbformat": 4,
 "nbformat_minor": 2
}
