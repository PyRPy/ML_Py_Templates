{
 "cells": [
  {
   "cell_type": "code",
   "execution_count": 71,
   "metadata": {
    "scrolled": true
   },
   "outputs": [],
   "source": [
    "# Chapter 3 Classification Walkthrough - Titanic Dataset"
   ]
  },
  {
   "cell_type": "code",
   "execution_count": null,
   "metadata": {},
   "outputs": [],
   "source": [
    ">>> import matplotlib.pyplot as plt\n",
    ">>> import pandas as pd\n",
    ">>> from sklearn import (\n",
    "...     ensemble,\n",
    "...     model_selection,    \n",
    "...     preprocessing,\n",
    "...     tree,\n",
    "... )\n",
    ">>> from sklearn.metrics import (\n",
    "...     auc,\n",
    "...     confusion_matrix,\n",
    "...     roc_auc_score,\n",
    "...     roc_curve,\n",
    "... )\n",
    ">>> from sklearn.model_selection import (\n",
    "...     train_test_split,\n",
    "...     StratifiedKFold,\n",
    "... )"
   ]
  },
  {
   "cell_type": "code",
   "execution_count": 39,
   "metadata": {},
   "outputs": [],
   "source": [
    "import warnings\n",
    "warnings.filterwarnings(\"ignore\")"
   ]
  },
  {
   "cell_type": "code",
   "execution_count": 3,
   "metadata": {},
   "outputs": [],
   "source": [
    ">>> from yellowbrick.classifier import (\n",
    "...     ConfusionMatrix,\n",
    "...     ROCAUC,\n",
    "... )\n",
    ">>> from yellowbrick.model_selection import (\n",
    "...     LearningCurve,\n",
    "... )"
   ]
  },
  {
   "cell_type": "code",
   "execution_count": 9,
   "metadata": {},
   "outputs": [],
   "source": [
    ">>> df = pd.read_excel(\"titanic3.xlsx\")\n",
    ">>> orig_df = df"
   ]
  },
  {
   "cell_type": "code",
   "execution_count": 10,
   "metadata": {
    "lines_to_next_cell": 2
   },
   "outputs": [
    {
     "data": {
      "text/plain": [
       "pclass         int64\n",
       "survived       int64\n",
       "name          object\n",
       "sex           object\n",
       "age          float64\n",
       "sibsp          int64\n",
       "parch          int64\n",
       "ticket        object\n",
       "fare         float64\n",
       "cabin         object\n",
       "embarked      object\n",
       "boat          object\n",
       "body         float64\n",
       "home.dest     object\n",
       "dtype: object"
      ]
     },
     "execution_count": 10,
     "metadata": {},
     "output_type": "execute_result"
    }
   ],
   "source": [
    ">>> df.dtypes"
   ]
  },
  {
   "cell_type": "code",
   "execution_count": 12,
   "metadata": {},
   "outputs": [
    {
     "data": {
      "text/plain": [
       "(1309, 14)"
      ]
     },
     "execution_count": 12,
     "metadata": {},
     "output_type": "execute_result"
    }
   ],
   "source": [
    ">>> df.shape"
   ]
  },
  {
   "cell_type": "code",
   "execution_count": 13,
   "metadata": {},
   "outputs": [
    {
     "data": {
      "text/html": [
       "<div>\n",
       "<style scoped>\n",
       "    .dataframe tbody tr th:only-of-type {\n",
       "        vertical-align: middle;\n",
       "    }\n",
       "\n",
       "    .dataframe tbody tr th {\n",
       "        vertical-align: top;\n",
       "    }\n",
       "\n",
       "    .dataframe thead th {\n",
       "        text-align: right;\n",
       "    }\n",
       "</style>\n",
       "<table border=\"1\" class=\"dataframe\">\n",
       "  <thead>\n",
       "    <tr style=\"text-align: right;\">\n",
       "      <th></th>\n",
       "      <th>pclass</th>\n",
       "      <th>survived</th>\n",
       "    </tr>\n",
       "  </thead>\n",
       "  <tbody>\n",
       "    <tr>\n",
       "      <th>count</th>\n",
       "      <td>1309.000000</td>\n",
       "      <td>1309.000000</td>\n",
       "    </tr>\n",
       "    <tr>\n",
       "      <th>mean</th>\n",
       "      <td>2.294882</td>\n",
       "      <td>0.381971</td>\n",
       "    </tr>\n",
       "    <tr>\n",
       "      <th>std</th>\n",
       "      <td>0.837836</td>\n",
       "      <td>0.486055</td>\n",
       "    </tr>\n",
       "    <tr>\n",
       "      <th>min</th>\n",
       "      <td>1.000000</td>\n",
       "      <td>0.000000</td>\n",
       "    </tr>\n",
       "    <tr>\n",
       "      <th>25%</th>\n",
       "      <td>2.000000</td>\n",
       "      <td>0.000000</td>\n",
       "    </tr>\n",
       "    <tr>\n",
       "      <th>50%</th>\n",
       "      <td>3.000000</td>\n",
       "      <td>0.000000</td>\n",
       "    </tr>\n",
       "    <tr>\n",
       "      <th>75%</th>\n",
       "      <td>3.000000</td>\n",
       "      <td>1.000000</td>\n",
       "    </tr>\n",
       "    <tr>\n",
       "      <th>max</th>\n",
       "      <td>3.000000</td>\n",
       "      <td>1.000000</td>\n",
       "    </tr>\n",
       "  </tbody>\n",
       "</table>\n",
       "</div>"
      ],
      "text/plain": [
       "            pclass     survived\n",
       "count  1309.000000  1309.000000\n",
       "mean      2.294882     0.381971\n",
       "std       0.837836     0.486055\n",
       "min       1.000000     0.000000\n",
       "25%       2.000000     0.000000\n",
       "50%       3.000000     0.000000\n",
       "75%       3.000000     1.000000\n",
       "max       3.000000     1.000000"
      ]
     },
     "execution_count": 13,
     "metadata": {},
     "output_type": "execute_result"
    }
   ],
   "source": [
    ">>> df.describe().iloc[:, :2]"
   ]
  },
  {
   "cell_type": "code",
   "execution_count": 14,
   "metadata": {},
   "outputs": [
    {
     "data": {
      "text/plain": [
       "pclass          0\n",
       "survived        0\n",
       "name            0\n",
       "sex             0\n",
       "age           263\n",
       "sibsp           0\n",
       "parch           0\n",
       "ticket          0\n",
       "fare            1\n",
       "cabin        1014\n",
       "embarked        2\n",
       "boat          823\n",
       "body         1188\n",
       "home.dest     564\n",
       "dtype: int64"
      ]
     },
     "execution_count": 14,
     "metadata": {},
     "output_type": "execute_result"
    }
   ],
   "source": [
    ">>> df.isnull().sum()"
   ]
  },
  {
   "cell_type": "code",
   "execution_count": 15,
   "metadata": {},
   "outputs": [
    {
     "data": {
      "text/plain": [
       "0     1\n",
       "1     1\n",
       "2     2\n",
       "3     1\n",
       "4     2\n",
       "5     1\n",
       "6     1\n",
       "7     2\n",
       "8     1\n",
       "9     2\n",
       "10    1\n",
       "dtype: int64"
      ]
     },
     "execution_count": 15,
     "metadata": {},
     "output_type": "execute_result"
    }
   ],
   "source": [
    ">>> df.isnull().sum(axis=1).loc[:10]"
   ]
  },
  {
   "cell_type": "code",
   "execution_count": 16,
   "metadata": {},
   "outputs": [],
   "source": [
    ">>> mask = df.isnull().any(axis=1)"
   ]
  },
  {
   "cell_type": "code",
   "execution_count": 17,
   "metadata": {},
   "outputs": [
    {
     "data": {
      "text/plain": [
       "0    True\n",
       "1    True\n",
       "2    True\n",
       "3    True\n",
       "4    True\n",
       "dtype: bool"
      ]
     },
     "execution_count": 17,
     "metadata": {},
     "output_type": "execute_result"
    }
   ],
   "source": [
    ">>> mask.head()  # rows"
   ]
  },
  {
   "cell_type": "code",
   "execution_count": 18,
   "metadata": {},
   "outputs": [
    {
     "data": {
      "text/plain": [
       "0      NaN\n",
       "1      NaN\n",
       "2      NaN\n",
       "3    135.0\n",
       "4      NaN\n",
       "Name: body, dtype: float64"
      ]
     },
     "execution_count": 18,
     "metadata": {},
     "output_type": "execute_result"
    }
   ],
   "source": [
    ">>> df[mask].body.head()"
   ]
  },
  {
   "cell_type": "code",
   "execution_count": 19,
   "metadata": {},
   "outputs": [
    {
     "data": {
      "text/plain": [
       "male      843\n",
       "female    466\n",
       "Name: sex, dtype: int64"
      ]
     },
     "execution_count": 19,
     "metadata": {},
     "output_type": "execute_result"
    }
   ],
   "source": [
    ">>> df.sex.value_counts(dropna=False)"
   ]
  },
  {
   "cell_type": "code",
   "execution_count": 20,
   "metadata": {},
   "outputs": [
    {
     "data": {
      "text/plain": [
       "S      914\n",
       "C      270\n",
       "Q      123\n",
       "NaN      2\n",
       "Name: embarked, dtype: int64"
      ]
     },
     "execution_count": 20,
     "metadata": {},
     "output_type": "execute_result"
    }
   ],
   "source": [
    ">>> df.embarked.value_counts(dropna=False)"
   ]
  },
  {
   "cell_type": "code",
   "execution_count": 21,
   "metadata": {},
   "outputs": [
    {
     "data": {
      "text/plain": [
       "0     Allen, Miss. Elisabeth Walton\n",
       "1    Allison, Master. Hudson Trevor\n",
       "2      Allison, Miss. Helen Loraine\n",
       "Name: name, dtype: object"
      ]
     },
     "execution_count": 21,
     "metadata": {},
     "output_type": "execute_result"
    }
   ],
   "source": [
    ">>> name = df.name\n",
    ">>> name.head(3)"
   ]
  },
  {
   "cell_type": "code",
   "execution_count": 22,
   "metadata": {},
   "outputs": [],
   "source": [
    ">>> df = df.drop(\n",
    "...     columns=[\n",
    "...         \"name\",\n",
    "...         \"ticket\",\n",
    "...         \"home.dest\",\n",
    "...         \"boat\",\n",
    "...         \"body\",\n",
    "...         \"cabin\",\n",
    "...     ]\n",
    "... )"
   ]
  },
  {
   "cell_type": "code",
   "execution_count": 23,
   "metadata": {},
   "outputs": [],
   "source": [
    ">>> df = pd.get_dummies(df)"
   ]
  },
  {
   "cell_type": "code",
   "execution_count": 24,
   "metadata": {},
   "outputs": [
    {
     "data": {
      "text/plain": [
       "Index(['pclass', 'survived', 'age', 'sibsp', 'parch', 'fare', 'sex_female',\n",
       "       'sex_male', 'embarked_C', 'embarked_Q', 'embarked_S'],\n",
       "      dtype='object')"
      ]
     },
     "execution_count": 24,
     "metadata": {},
     "output_type": "execute_result"
    }
   ],
   "source": [
    ">>> df.columns"
   ]
  },
  {
   "cell_type": "code",
   "execution_count": 25,
   "metadata": {},
   "outputs": [],
   "source": [
    ">>> df = df.drop(columns=\"sex_male\")"
   ]
  },
  {
   "cell_type": "code",
   "execution_count": 26,
   "metadata": {},
   "outputs": [],
   "source": [
    ">>> df = pd.get_dummies(df, drop_first=True)"
   ]
  },
  {
   "cell_type": "code",
   "execution_count": 27,
   "metadata": {},
   "outputs": [
    {
     "data": {
      "text/plain": [
       "Index(['pclass', 'survived', 'age', 'sibsp', 'parch', 'fare', 'sex_female',\n",
       "       'embarked_C', 'embarked_Q', 'embarked_S'],\n",
       "      dtype='object')"
      ]
     },
     "execution_count": 27,
     "metadata": {},
     "output_type": "execute_result"
    }
   ],
   "source": [
    ">>> df.columns"
   ]
  },
  {
   "cell_type": "code",
   "execution_count": 28,
   "metadata": {},
   "outputs": [],
   "source": [
    ">>> y = df.survived\n",
    ">>> X = df.drop(columns=\"survived\")"
   ]
  },
  {
   "cell_type": "code",
   "execution_count": 34,
   "metadata": {},
   "outputs": [
    {
     "ename": "ModuleNotFoundError",
     "evalue": "No module named 'ConfigParser'",
     "output_type": "error",
     "traceback": [
      "\u001b[1;31m---------------------------------------------------------------------------\u001b[0m",
      "\u001b[1;31mModuleNotFoundError\u001b[0m                       Traceback (most recent call last)",
      "\u001b[1;32m<ipython-input-34-1333a4dfac39>\u001b[0m in \u001b[0;36m<module>\u001b[1;34m()\u001b[0m\n\u001b[1;32m----> 1\u001b[1;33m \u001b[1;32mimport\u001b[0m \u001b[0mjanitor\u001b[0m \u001b[1;32mas\u001b[0m \u001b[0mjn\u001b[0m\u001b[1;33m\u001b[0m\u001b[0m\n\u001b[0m",
      "\u001b[1;32m~\\Anaconda3\\envs\\deeplearning\\lib\\site-packages\\janitor.py\u001b[0m in \u001b[0;36m<module>\u001b[1;34m()\u001b[0m\n\u001b[0;32m      4\u001b[0m \"\"\"\n\u001b[0;32m      5\u001b[0m \u001b[1;32mimport\u001b[0m \u001b[0margparse\u001b[0m\u001b[1;33m\u001b[0m\u001b[0m\n\u001b[1;32m----> 6\u001b[1;33m \u001b[1;32mimport\u001b[0m \u001b[0mConfigParser\u001b[0m\u001b[1;33m\u001b[0m\u001b[0m\n\u001b[0m\u001b[0;32m      7\u001b[0m \u001b[1;33m\u001b[0m\u001b[0m\n\u001b[0;32m      8\u001b[0m \u001b[1;32mfrom\u001b[0m \u001b[0mflask\u001b[0m \u001b[1;32mimport\u001b[0m \u001b[0mFlask\u001b[0m\u001b[1;33m,\u001b[0m \u001b[0msend_from_directory\u001b[0m\u001b[1;33m\u001b[0m\u001b[0m\n",
      "\u001b[1;31mModuleNotFoundError\u001b[0m: No module named 'ConfigParser'"
     ]
    }
   ],
   "source": [
    ">>> import janitor as jn"
   ]
  },
  {
   "cell_type": "code",
   "execution_count": 32,
   "metadata": {},
   "outputs": [
    {
     "ename": "ModuleNotFoundError",
     "evalue": "No module named 'ConfigParser'",
     "output_type": "error",
     "traceback": [
      "\u001b[1;31m---------------------------------------------------------------------------\u001b[0m",
      "\u001b[1;31mModuleNotFoundError\u001b[0m                       Traceback (most recent call last)",
      "\u001b[1;32m<ipython-input-32-a83311be1f1a>\u001b[0m in \u001b[0;36m<module>\u001b[1;34m()\u001b[0m\n\u001b[1;32m----> 1\u001b[1;33m \u001b[1;32mimport\u001b[0m \u001b[0mjanitor\u001b[0m \u001b[1;32mas\u001b[0m \u001b[0mjn\u001b[0m\u001b[1;33m\u001b[0m\u001b[0m\n\u001b[0m\u001b[0;32m      2\u001b[0m X, y = jn.get_features_targets(\n\u001b[0;32m      3\u001b[0m     \u001b[0mdf\u001b[0m\u001b[1;33m,\u001b[0m \u001b[0mtarget_columns\u001b[0m\u001b[1;33m=\u001b[0m\u001b[1;34m\"survived\"\u001b[0m\u001b[1;33m\u001b[0m\u001b[0m\n\u001b[0;32m      4\u001b[0m )\n",
      "\u001b[1;32m~\\Anaconda3\\envs\\deeplearning\\lib\\site-packages\\janitor.py\u001b[0m in \u001b[0;36m<module>\u001b[1;34m()\u001b[0m\n\u001b[0;32m      4\u001b[0m \"\"\"\n\u001b[0;32m      5\u001b[0m \u001b[1;32mimport\u001b[0m \u001b[0margparse\u001b[0m\u001b[1;33m\u001b[0m\u001b[0m\n\u001b[1;32m----> 6\u001b[1;33m \u001b[1;32mimport\u001b[0m \u001b[0mConfigParser\u001b[0m\u001b[1;33m\u001b[0m\u001b[0m\n\u001b[0m\u001b[0;32m      7\u001b[0m \u001b[1;33m\u001b[0m\u001b[0m\n\u001b[0;32m      8\u001b[0m \u001b[1;32mfrom\u001b[0m \u001b[0mflask\u001b[0m \u001b[1;32mimport\u001b[0m \u001b[0mFlask\u001b[0m\u001b[1;33m,\u001b[0m \u001b[0msend_from_directory\u001b[0m\u001b[1;33m\u001b[0m\u001b[0m\n",
      "\u001b[1;31mModuleNotFoundError\u001b[0m: No module named 'ConfigParser'"
     ]
    }
   ],
   "source": [
    ">>> import janitor as jn\n",
    ">>> X, y = jn.get_features_targets(\n",
    "...     df, target_columns=\"survived\"\n",
    "... )"
   ]
  },
  {
   "cell_type": "code",
   "execution_count": 35,
   "metadata": {},
   "outputs": [],
   "source": [
    ">>> X_train, X_test, y_train, y_test = model_selection.train_test_split(\n",
    "...     X, y, test_size=0.3, random_state=42\n",
    "... )"
   ]
  },
  {
   "cell_type": "code",
   "execution_count": 36,
   "metadata": {
    "scrolled": true
   },
   "outputs": [
    {
     "data": {
      "text/plain": [
       "Index(['pclass', 'age', 'sibsp', 'parch', 'fare', 'sex_female', 'embarked_C',\n",
       "       'embarked_Q', 'embarked_S'],\n",
       "      dtype='object')"
      ]
     },
     "execution_count": 36,
     "metadata": {},
     "output_type": "execute_result"
    }
   ],
   "source": [
    "X_train.columns"
   ]
  },
  {
   "cell_type": "code",
   "execution_count": 37,
   "metadata": {},
   "outputs": [],
   "source": [
    ">>> from sklearn.experimental import (\n",
    "...     enable_iterative_imputer,\n",
    "... )\n",
    ">>> from sklearn import impute\n",
    ">>> num_cols = [\n",
    "...     \"pclass\",\n",
    "...     \"age\",\n",
    "...     \"sibsp\",\n",
    "...     \"parch\",\n",
    "...     \"fare\",\n",
    "...     \"sex_female\",\n",
    "... ]"
   ]
  },
  {
   "cell_type": "code",
   "execution_count": 40,
   "metadata": {},
   "outputs": [],
   "source": [
    ">>> imputer = impute.IterativeImputer()\n",
    ">>> imputed = imputer.fit_transform(\n",
    "...     X_train[num_cols]\n",
    "... )\n",
    ">>> X_train.loc[:, num_cols] = imputed\n",
    ">>> imputed = imputer.transform(X_test[num_cols])\n",
    ">>> X_test.loc[:, num_cols] = imputed"
   ]
  },
  {
   "cell_type": "code",
   "execution_count": 41,
   "metadata": {},
   "outputs": [],
   "source": [
    ">>> meds = X_train.median()\n",
    ">>> X_train = X_train.fillna(meds)\n",
    ">>> X_test = X_test.fillna(meds)"
   ]
  },
  {
   "cell_type": "code",
   "execution_count": 42,
   "metadata": {},
   "outputs": [
    {
     "data": {
      "text/plain": [
       "['pclass', 'age', 'sibsp', 'parch', 'fare', 'sex_female']"
      ]
     },
     "execution_count": 42,
     "metadata": {},
     "output_type": "execute_result"
    }
   ],
   "source": [
    "num_cols"
   ]
  },
  {
   "cell_type": "code",
   "execution_count": 43,
   "metadata": {},
   "outputs": [
    {
     "data": {
      "text/plain": [
       "(916, 9)"
      ]
     },
     "execution_count": 43,
     "metadata": {},
     "output_type": "execute_result"
    }
   ],
   "source": [
    "X_train.shape"
   ]
  },
  {
   "cell_type": "code",
   "execution_count": 44,
   "metadata": {},
   "outputs": [],
   "source": [
    ">>> cols = ['pclass', 'age', 'sibsp', 'parch', 'fare', 'sex_female', 'embarked_C',\n",
    "       'embarked_Q', 'embarked_S']\n",
    ">>> sca = preprocessing.StandardScaler()\n",
    ">>> X_train = sca.fit_transform(X_train)\n",
    ">>> X_train = pd.DataFrame(X_train, columns=cols)\n",
    ">>> X_test = sca.transform(X_test)\n",
    ">>> X_test = pd.DataFrame(X_test, columns=cols)"
   ]
  },
  {
   "cell_type": "code",
   "execution_count": 45,
   "metadata": {},
   "outputs": [],
   "source": [
    ">>> def tweak_titanic(df):\n",
    "...     df = df.drop(\n",
    "...         columns=[\n",
    "...             \"name\",\n",
    "...             \"ticket\",\n",
    "...             \"home.dest\",\n",
    "...             \"boat\",\n",
    "...             \"body\",\n",
    "...             \"cabin\",\n",
    "...         ]\n",
    "...     ).pipe(pd.get_dummies, drop_first=True)\n",
    "...     return df"
   ]
  },
  {
   "cell_type": "code",
   "execution_count": 46,
   "metadata": {},
   "outputs": [],
   "source": [
    ">>> def get_train_test_X_y(\n",
    "...     df, y_col, size=0.3, std_cols=None\n",
    "... ):\n",
    "...     y = df[y_col]\n",
    "...     X = df.drop(columns=y_col)\n",
    "...     X_train, X_test, y_train, y_test = model_selection.train_test_split(\n",
    "...         X, y, test_size=size, random_state=42\n",
    "...     )\n",
    "...     cols = X.columns\n",
    "...     num_cols = [\n",
    "...         \"pclass\",\n",
    "...         \"age\",\n",
    "...         \"sibsp\",\n",
    "...         \"parch\",\n",
    "...         \"fare\",\n",
    "...     ]\n",
    "...     fi = impute.IterativeImputer()\n",
    "...     X_train.loc[\n",
    "...         :, num_cols\n",
    "...     ] = fi.fit_transform(X_train[num_cols])\n",
    "...     X_test.loc[:, num_cols] = fi.transform(\n",
    "...         X_test[num_cols]\n",
    "...     )\n",
    "...\n",
    "...     if std_cols:\n",
    "...         std = preprocessing.StandardScaler()\n",
    "...         X_train.loc[\n",
    "...             :, std_cols\n",
    "...         ] = std.fit_transform(\n",
    "...             X_train[std_cols]\n",
    "...         )\n",
    "...         X_test.loc[\n",
    "...             :, std_cols\n",
    "...         ] = std.transform(X_test[std_cols])\n",
    "...\n",
    "...     return X_train, X_test, y_train, y_test"
   ]
  },
  {
   "cell_type": "code",
   "execution_count": 47,
   "metadata": {},
   "outputs": [],
   "source": [
    ">>> ti_df = tweak_titanic(orig_df)\n",
    ">>> std_cols = \"pclass,age,sibsp,fare\".split(\",\")\n",
    ">>> X_train, X_test, y_train, y_test = get_train_test_X_y(\n",
    "...     ti_df, \"survived\", std_cols=std_cols\n",
    "... )"
   ]
  },
  {
   "cell_type": "code",
   "execution_count": 48,
   "metadata": {
    "lines_to_next_cell": 2
   },
   "outputs": [
    {
     "data": {
      "text/plain": [
       "0.544529262086514"
      ]
     },
     "execution_count": 48,
     "metadata": {},
     "output_type": "execute_result"
    }
   ],
   "source": [
    ">>> from sklearn.dummy import DummyClassifier\n",
    ">>> bm = DummyClassifier()\n",
    ">>> bm.fit(X_train, y_train)\n",
    ">>> bm.score(X_test, y_test)  # accuracy"
   ]
  },
  {
   "cell_type": "code",
   "execution_count": 49,
   "metadata": {},
   "outputs": [
    {
     "data": {
      "text/plain": [
       "0.44"
      ]
     },
     "execution_count": 49,
     "metadata": {},
     "output_type": "execute_result"
    }
   ],
   "source": [
    ">>> from sklearn import metrics\n",
    ">>> metrics.precision_score(\n",
    "...     y_test, bm.predict(X_test)\n",
    "... )"
   ]
  },
  {
   "cell_type": "code",
   "execution_count": 51,
   "metadata": {},
   "outputs": [],
   "source": [
    ">>> X = pd.concat([X_train, X_test])\n",
    ">>> y = pd.concat([y_train, y_test])\n",
    ">>> from sklearn import model_selection\n",
    ">>> from sklearn.dummy import DummyClassifier\n",
    ">>> from sklearn.linear_model import (\n",
    "...     LogisticRegression,\n",
    "... )\n",
    ">>> from sklearn.tree import DecisionTreeClassifier\n",
    ">>> from sklearn.neighbors import (\n",
    "...     KNeighborsClassifier,\n",
    "... )\n",
    ">>> from sklearn.naive_bayes import GaussianNB\n",
    ">>> from sklearn.svm import SVC\n",
    ">>> from sklearn.ensemble import (\n",
    "...     RandomForestClassifier,\n",
    "... )\n",
    ">>> import xgboost"
   ]
  },
  {
   "cell_type": "code",
   "execution_count": 52,
   "metadata": {
    "lines_to_next_cell": 2
   },
   "outputs": [
    {
     "name": "stdout",
     "output_type": "stream",
     "text": [
      "DummyClassifier         AUC: 0.510 STD: 0.03\n",
      "LogisticRegression      AUC: 0.843 STD: 0.03\n",
      "DecisionTreeClassifier  AUC: 0.764 STD: 0.04\n",
      "KNeighborsClassifier    AUC: 0.830 STD: 0.05\n",
      "GaussianNB              AUC: 0.817 STD: 0.04\n",
      "SVC                     AUC: 0.838 STD: 0.05\n",
      "RandomForestClassifier  AUC: 0.838 STD: 0.04\n",
      "XGBClassifier           AUC: 0.863 STD: 0.04\n"
     ]
    }
   ],
   "source": [
    ">>> for model in [\n",
    "...     DummyClassifier,\n",
    "...     LogisticRegression,\n",
    "...     DecisionTreeClassifier,\n",
    "...     KNeighborsClassifier,\n",
    "...     GaussianNB,\n",
    "...     SVC,\n",
    "...     RandomForestClassifier,\n",
    "...     xgboost.XGBClassifier,\n",
    "... ]:\n",
    "...     cls = model()\n",
    "...     kfold = model_selection.KFold(\n",
    "...         n_splits=10, random_state=42\n",
    "...     )\n",
    "...     s = model_selection.cross_val_score(\n",
    "...         cls, X, y, scoring=\"roc_auc\", cv=kfold\n",
    "...     )\n",
    "...     print(\n",
    "...         f\"{model.__name__:22}  AUC: \"\n",
    "...         f\"{s.mean():.3f} STD: {s.std():.2f}\"\n",
    "...     )"
   ]
  },
  {
   "cell_type": "code",
   "execution_count": 59,
   "metadata": {},
   "outputs": [
    {
     "data": {
      "text/plain": [
       "RandomForestClassifier(bootstrap=True, class_weight=None, criterion='gini',\n",
       "                       max_depth=None, max_features='auto', max_leaf_nodes=None,\n",
       "                       min_impurity_decrease=0.0, min_impurity_split=None,\n",
       "                       min_samples_leaf=1, min_samples_split=2,\n",
       "                       min_weight_fraction_leaf=0.0, n_estimators=100,\n",
       "                       n_jobs=None, oob_score=False, random_state=42, verbose=0,\n",
       "                       warm_start=False)"
      ]
     },
     "execution_count": 59,
     "metadata": {},
     "output_type": "execute_result"
    }
   ],
   "source": [
    ">>> rf = ensemble.RandomForestClassifier(\n",
    "...     n_estimators=100, random_state=42\n",
    "... )\n",
    ">>> rf.fit(X_train, y_train)"
   ]
  },
  {
   "cell_type": "code",
   "execution_count": 60,
   "metadata": {},
   "outputs": [
    {
     "data": {
      "text/plain": [
       "0.7811704834605598"
      ]
     },
     "execution_count": 60,
     "metadata": {},
     "output_type": "execute_result"
    }
   ],
   "source": [
    ">>> rf.score(X_test, y_test)"
   ]
  },
  {
   "cell_type": "code",
   "execution_count": 61,
   "metadata": {},
   "outputs": [
    {
     "data": {
      "text/plain": [
       "0.7862068965517242"
      ]
     },
     "execution_count": 61,
     "metadata": {},
     "output_type": "execute_result"
    }
   ],
   "source": [
    ">>> metrics.precision_score(\n",
    "...     y_test, rf.predict(X_test)\n",
    "... )"
   ]
  },
  {
   "cell_type": "code",
   "execution_count": 62,
   "metadata": {
    "lines_to_next_cell": 2
   },
   "outputs": [
    {
     "name": "stdout",
     "output_type": "stream",
     "text": [
      "age            0.285\n",
      "fare           0.262\n",
      "sex_male       0.241\n",
      "pclass         0.089\n",
      "sibsp          0.050\n"
     ]
    }
   ],
   "source": [
    ">>> for col, val in sorted(\n",
    "...     zip(\n",
    "...         X_train.columns,\n",
    "...         rf.feature_importances_,\n",
    "...     ),\n",
    "...     key=lambda x: x[1],\n",
    "...     reverse=True,\n",
    "... )[:5]:\n",
    "...     print(f\"{col:10}{val:10.3f}\")"
   ]
  },
  {
   "cell_type": "code",
   "execution_count": 63,
   "metadata": {},
   "outputs": [
    {
     "name": "stdout",
     "output_type": "stream",
     "text": [
      "{'max_features': 'auto', 'min_samples_leaf': 0.1, 'n_estimators': 15, 'random_state': 42}\n"
     ]
    }
   ],
   "source": [
    ">>> rf4 = ensemble.RandomForestClassifier()\n",
    ">>> params = {\n",
    "...     \"max_features\": [0.4, \"auto\"],\n",
    "...     \"n_estimators\": [15, 200],\n",
    "...     \"min_samples_leaf\": [1, 0.1],\n",
    "...     \"random_state\": [42],\n",
    "... }\n",
    ">>> cv = model_selection.GridSearchCV(\n",
    "...     rf4, params, n_jobs=-1\n",
    "... ).fit(X_train, y_train)\n",
    ">>> print(cv.best_params_)"
   ]
  },
  {
   "cell_type": "code",
   "execution_count": 64,
   "metadata": {},
   "outputs": [
    {
     "data": {
      "text/plain": [
       "0.7073791348600509"
      ]
     },
     "execution_count": 64,
     "metadata": {},
     "output_type": "execute_result"
    }
   ],
   "source": [
    ">>> rf5 = ensemble.RandomForestClassifier(\n",
    "...     **{\n",
    "...         \"max_features\": \"auto\",\n",
    "...         \"min_samples_leaf\": 0.1,\n",
    "...         \"n_estimators\": 200,\n",
    "...         \"random_state\": 42,\n",
    "...     }\n",
    "... )\n",
    ">>> rf5.fit(X_train, y_train)\n",
    ">>> rf5.score(X_test, y_test)"
   ]
  },
  {
   "cell_type": "code",
   "execution_count": 65,
   "metadata": {},
   "outputs": [
    {
     "data": {
      "text/plain": [
       "array([[217,   7],\n",
       "       [108,  61]], dtype=int64)"
      ]
     },
     "execution_count": 65,
     "metadata": {},
     "output_type": "execute_result"
    }
   ],
   "source": [
    ">>> from sklearn.metrics import confusion_matrix\n",
    ">>> y_pred = rf5.predict(X_test)\n",
    ">>> confusion_matrix(y_test, y_pred)"
   ]
  },
  {
   "cell_type": "code",
   "execution_count": 66,
   "metadata": {},
   "outputs": [
    {
     "data": {
      "image/png": "[encoded data removed]",
      "text/plain": [
       "<Figure size 432x432 with 1 Axes>"
      ]
     },
     "metadata": {},
     "output_type": "display_data"
    },
    {
     "data": {
      "text/plain": [
       "<matplotlib.axes._subplots.AxesSubplot at 0x1d9a5e20ef0>"
      ]
     },
     "execution_count": 66,
     "metadata": {},
     "output_type": "execute_result"
    }
   ],
   "source": [
    ">>> mapping = {0: \"died\", 1: \"survived\"}\n",
    ">>> fig, ax = plt.subplots(figsize=(6, 6))\n",
    ">>> cm_viz = ConfusionMatrix(\n",
    "...     rf5,\n",
    "...     classes=[\"died\", \"survived\"],\n",
    "...     label_encoder=mapping,\n",
    "... )\n",
    ">>> cm_viz.score(X_test, y_test)\n",
    ">>> cm_viz.poof()"
   ]
  },
  {
   "cell_type": "code",
   "execution_count": 67,
   "metadata": {},
   "outputs": [
    {
     "data": {
      "text/plain": [
       "0.6648483727810651"
      ]
     },
     "execution_count": 67,
     "metadata": {},
     "output_type": "execute_result"
    }
   ],
   "source": [
    ">>> y_pred = rf5.predict(X_test)\n",
    ">>> roc_auc_score(y_test, y_pred)"
   ]
  },
  {
   "cell_type": "code",
   "execution_count": 68,
   "metadata": {},
   "outputs": [
    {
     "data": {
      "image/png": "[encoded data removed]",
      "text/plain": [
       "<Figure size 432x432 with 1 Axes>"
      ]
     },
     "metadata": {},
     "output_type": "display_data"
    },
    {
     "data": {
      "text/plain": [
       "<matplotlib.axes._subplots.AxesSubplot at 0x1d9a66b63c8>"
      ]
     },
     "execution_count": 68,
     "metadata": {},
     "output_type": "execute_result"
    }
   ],
   "source": [
    ">>> fig, ax = plt.subplots(figsize=(6, 6))\n",
    ">>> roc_viz = ROCAUC(rf5)\n",
    ">>> roc_viz.score(X_test, y_test)\n",
    ">>> roc_viz.poof()"
   ]
  },
  {
   "cell_type": "code",
   "execution_count": 69,
   "metadata": {},
   "outputs": [
    {
     "data": {
      "image/png": "[encoded data removed]",
      "text/plain": [
       "<Figure size 432x288 with 1 Axes>"
      ]
     },
     "metadata": {},
     "output_type": "display_data"
    },
    {
     "data": {
      "text/plain": [
       "<matplotlib.axes._subplots.AxesSubplot at 0x1d9a67b0c50>"
      ]
     },
     "execution_count": 69,
     "metadata": {},
     "output_type": "execute_result"
    }
   ],
   "source": [
    ">>> import numpy as np\n",
    ">>> fig, ax = plt.subplots(figsize=(6, 4))\n",
    ">>> cv = StratifiedKFold(12)\n",
    ">>> sizes = np.linspace(0.3, 1.0, 10)\n",
    ">>> lc_viz = LearningCurve(\n",
    "...     rf5,\n",
    "...     cv=cv,\n",
    "...     train_sizes=sizes,\n",
    "...     scoring=\"f1_weighted\",\n",
    "...     n_jobs=4,\n",
    "...     ax=ax,\n",
    "... )\n",
    ">>> lc_viz.fit(X, y)\n",
    ">>> lc_viz.poof()"
   ]
  },
  {
   "cell_type": "code",
   "execution_count": 70,
   "metadata": {
    "lines_to_next_cell": 2
   },
   "outputs": [
    {
     "data": {
      "text/plain": [
       "0.6648483727810651"
      ]
     },
     "execution_count": 70,
     "metadata": {},
     "output_type": "execute_result"
    }
   ],
   "source": [
    ">>> import pickle\n",
    ">>> pic = pickle.dumps(rf5)\n",
    ">>> rf6 = pickle.loads(pic)\n",
    ">>> y_pred = rf6.predict(X_test)\n",
    ">>> roc_auc_score(y_test, y_pred)"
   ]
  }
 ],
 "metadata": {
  "jupytext": {
   "formats": "ipynb,py:light"
  },
  "kernelspec": {
   "display_name": "Python 3",
   "language": "python",
   "name": "python3"
  },
  "language_info": {
   "codemirror_mode": {
    "name": "ipython",
    "version": 3
   },
   "file_extension": ".py",
   "mimetype": "text/x-python",
   "name": "python",
   "nbconvert_exporter": "python",
   "pygments_lexer": "ipython3",
   "version": "3.6.5"
  }
 },
 "nbformat": 4,
 "nbformat_minor": 2
}
