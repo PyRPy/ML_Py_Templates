{
 "cells": [
  {
   "cell_type": "code",
   "execution_count": null,
   "metadata": {},
   "outputs": [],
   "source": [
    "# Standard Section 1: Introduction to Web Scraping"
   ]
  },
  {
   "cell_type": "code",
   "execution_count": null,
   "metadata": {},
   "outputs": [],
   "source": [
    "## some part of the codes is not working yet"
   ]
  },
  {
   "cell_type": "code",
   "execution_count": 1,
   "metadata": {},
   "outputs": [
    {
     "data": {
      "text/html": [
       "<style>\n",
       "blockquote { background: #AEDE94; }\n",
       "h1 { \n",
       "    padding-top: 25px;\n",
       "    padding-bottom: 25px;\n",
       "    text-align: left; \n",
       "    padding-left: 10px;\n",
       "    background-color: #DDDDDD; \n",
       "    color: black;\n",
       "}\n",
       "h2 { \n",
       "    padding-top: 10px;\n",
       "    padding-bottom: 10px;\n",
       "    text-align: left; \n",
       "    padding-left: 5px;\n",
       "    background-color: #EEEEEE; \n",
       "    color: black;\n",
       "}\n",
       "\n",
       "div.exercise {\n",
       "\tbackground-color: #ffcccc;\n",
       "\tborder-color: #E9967A; \t\n",
       "\tborder-left: 5px solid #800080; \n",
       "\tpadding: 0.5em;\n",
       "}\n",
       "\n",
       "span.sub-q {\n",
       "\tfont-weight: bold;\n",
       "}\n",
       "div.theme {\n",
       "\tbackground-color: #DDDDDD;\n",
       "\tborder-color: #E9967A; \t\n",
       "\tborder-left: 5px solid #800080; \n",
       "\tpadding: 0.5em;\n",
       "\tfont-size: 18pt;\n",
       "}\n",
       "div.gc { \n",
       "\tbackground-color: #AEDE94;\n",
       "\tborder-color: #E9967A; \t \n",
       "\tborder-left: 5px solid #800080; \n",
       "\tpadding: 0.5em;\n",
       "\tfont-size: 12pt;\n",
       "}\n",
       "p.q1 { \n",
       "    padding-top: 5px;\n",
       "    padding-bottom: 5px;\n",
       "    text-align: left; \n",
       "    padding-left: 5px;\n",
       "    background-color: #EEEEEE; \n",
       "    color: black;\n",
       "}\n",
       "header {\n",
       "   padding-top: 35px;\n",
       "    padding-bottom: 35px;\n",
       "    text-align: left; \n",
       "    padding-left: 10px;\n",
       "    background-color: #DDDDDD; \n",
       "    color: black;\n",
       "}\n",
       "</style>\n",
       "\n"
      ],
      "text/plain": [
       "<IPython.core.display.HTML object>"
      ]
     },
     "execution_count": 1,
     "metadata": {},
     "output_type": "execute_result"
    }
   ],
   "source": [
    "#RUN THIS CELL \n",
    "import requests\n",
    "from IPython.core.display import HTML\n",
    "styles = requests.get(\"http://raw.githubusercontent.com/Harvard-IACS/2018-CS109A/master/content/styles/cs109.css\").text\n",
    "HTML(styles)"
   ]
  },
  {
   "cell_type": "code",
   "execution_count": 3,
   "metadata": {},
   "outputs": [],
   "source": [
    "%matplotlib inline\n",
    "import numpy as np\n",
    "import matplotlib.pyplot as plt\n",
    "import pandas as pd\n",
    "import seaborn as sns\n",
    "sns.set_style(\"whitegrid\")\n",
    "sns.set_context(\"notebook\")\n",
    "\n",
    "import requests\n",
    "from bs4 import BeautifulSoup\n",
    "from IPython.display import HTML"
   ]
  },
  {
   "cell_type": "code",
   "execution_count": 4,
   "metadata": {},
   "outputs": [],
   "source": [
    "# Setting up 'requests' to make HTTPS requests properly takes some extra steps... we'll skip them for now.\n",
    "requests.packages.urllib3.disable_warnings()"
   ]
  },
  {
   "cell_type": "code",
   "execution_count": null,
   "metadata": {},
   "outputs": [],
   "source": [
    "# Ingesting data "
   ]
  },
  {
   "cell_type": "code",
   "execution_count": 6,
   "metadata": {},
   "outputs": [],
   "source": [
    "url = \"https://www.nobelprize.org/prizes/lists/all-nobel-prizes/\"\n",
    "# All 3 of these do the same thing. The third is my (KCA's) favorite new feature of Python 3.6.\n",
    "wayback_query_url = 'http://archive.org/wayback/available?url={}'.format(url)\n",
    "wayback_query_url = 'http://archive.org/wayback/available?url={url}'.format(url=url)\n",
    "# wayback_query_url = f'http://archive.org/wayback/available?url={url}'\n",
    "r = requests.get(wayback_query_url)"
   ]
  },
  {
   "cell_type": "code",
   "execution_count": 7,
   "metadata": {},
   "outputs": [
    {
     "data": {
      "text/plain": [
       "'{\"archived_snapshots\": {\"closest\": {\"available\": true, \"status\": \"200\", \"timestamp\": \"20190826213936\", \"url\": \"http://web.archive.org/web/20190826213936/https://www.nobelprize.org/prizes/lists/all-nobel-prizes\"}}, \"url\": \"https://www.nobelprize.org/prizes/lists/all-nobel-prizes/\"}'"
      ]
     },
     "execution_count": 7,
     "metadata": {},
     "output_type": "execute_result"
    }
   ],
   "source": [
    "r.text"
   ]
  },
  {
   "cell_type": "code",
   "execution_count": 8,
   "metadata": {},
   "outputs": [
    {
     "data": {
      "text/plain": [
       "{'archived_snapshots': {'closest': {'available': True,\n",
       "   'status': '200',\n",
       "   'timestamp': '20190826213936',\n",
       "   'url': 'http://web.archive.org/web/20190826213936/https://www.nobelprize.org/prizes/lists/all-nobel-prizes'}},\n",
       " 'url': 'https://www.nobelprize.org/prizes/lists/all-nobel-prizes/'}"
      ]
     },
     "execution_count": 8,
     "metadata": {},
     "output_type": "execute_result"
    }
   ],
   "source": [
    "import json\n",
    "json.loads(r.text)"
   ]
  },
  {
   "cell_type": "code",
   "execution_count": 9,
   "metadata": {},
   "outputs": [
    {
     "data": {
      "text/plain": [
       "{'archived_snapshots': {'closest': {'available': True,\n",
       "   'status': '200',\n",
       "   'timestamp': '20190826213936',\n",
       "   'url': 'http://web.archive.org/web/20190826213936/https://www.nobelprize.org/prizes/lists/all-nobel-prizes'}},\n",
       " 'url': 'https://www.nobelprize.org/prizes/lists/all-nobel-prizes/'}"
      ]
     },
     "execution_count": 9,
     "metadata": {},
     "output_type": "execute_result"
    }
   ],
   "source": [
    "response_json = r.json()\n",
    "response_json"
   ]
  },
  {
   "cell_type": "code",
   "execution_count": 10,
   "metadata": {},
   "outputs": [],
   "source": [
    "# get the snapshot URL?\n",
    "snapshot_url = response_json['archived_snapshots']['closest']['url']\n",
    "snapshot = requests.get(snapshot_url)"
   ]
  },
  {
   "cell_type": "code",
   "execution_count": 11,
   "metadata": {},
   "outputs": [
    {
     "name": "stdout",
     "output_type": "stream",
     "text": [
      "\t<!DOCTYPE html>\n",
      "\n",
      "\t<html lang=\"en-US\" class=\"no-js\">\n",
      "\n",
      "\t<head><script src=\"//archive.org/includes/analytics.js?v=cf34f82\" type=\"text/javascript\"></script>\n",
      "<script type=\"text/javascript\">window.addEventListener('DOMContentLoaded',function(){var v=archive_analytics.values;v.service='wb';v.server_name='wwwb-app57.us.archive.org';v.server_ms=660;archive_analytics.send_pageview({});});</script><script type=\"text/javascript\" src=\"/_static/js/ait-client-rewrite.js\" charset=\"utf-8\"></script>\n",
      "<script type\n"
     ]
    }
   ],
   "source": [
    "raw_html = snapshot.text\n",
    "print(raw_html[:500])"
   ]
  },
  {
   "cell_type": "code",
   "execution_count": null,
   "metadata": {},
   "outputs": [],
   "source": [
    "# Parse the HTML with BeautifulSoup"
   ]
  },
  {
   "cell_type": "code",
   "execution_count": 12,
   "metadata": {},
   "outputs": [],
   "source": [
    "soup = BeautifulSoup(raw_html, 'html.parser')"
   ]
  },
  {
   "cell_type": "code",
   "execution_count": 13,
   "metadata": {},
   "outputs": [
    {
     "name": "stdout",
     "output_type": "stream",
     "text": [
      "<!DOCTYPE html>\n",
      "<html class=\"no-js\" lang=\"en-US\">\n",
      " <head>\n",
      "  <script src=\"//archive.org/includes/analytics.js?v=cf34f82\" type=\"text/javascript\">\n",
      "  </script>\n",
      "  <script type=\"text/javascript\">\n",
      "   window.addEventListener('DOMContentLoaded',function(){var v=archive_analytics.values;v.service='wb';v.server_name='wwwb-app57.us.archive.org';v.server_ms=660;archive_analytics.send_pageview({});});\n",
      "  </script>\n",
      "  <script charset=\"utf-8\" src=\"/_static/js/ait-client-rewrite.js\" type=\"text/javascript\">\n",
      "  </scr\n"
     ]
    }
   ],
   "source": [
    "# Print a cleaned-up version of raw HTML\n",
    "print(soup.prettify()[:500])"
   ]
  },
  {
   "cell_type": "code",
   "execution_count": 14,
   "metadata": {},
   "outputs": [
    {
     "data": {
      "text/plain": [
       "<title>All Nobel Prizes</title>"
      ]
     },
     "execution_count": 14,
     "metadata": {},
     "output_type": "execute_result"
    }
   ],
   "source": [
    "# Find the first “title” object\n",
    "soup.select_one('title')"
   ]
  },
  {
   "cell_type": "code",
   "execution_count": 15,
   "metadata": {},
   "outputs": [
    {
     "data": {
      "text/plain": [
       "'All Nobel Prizes'"
      ]
     },
     "execution_count": 15,
     "metadata": {},
     "output_type": "execute_result"
    }
   ],
   "source": [
    "soup.select_one('title').text"
   ]
  },
  {
   "cell_type": "code",
   "execution_count": 16,
   "metadata": {},
   "outputs": [],
   "source": [
    "# Extracting award data"
   ]
  },
  {
   "cell_type": "code",
   "execution_count": 17,
   "metadata": {},
   "outputs": [
    {
     "data": {
      "text/plain": [
       "641"
      ]
     },
     "execution_count": 17,
     "metadata": {},
     "output_type": "execute_result"
    }
   ],
   "source": [
    "award_nodes = soup.select('.by_year')\n",
    "len(award_nodes)"
   ]
  },
  {
   "cell_type": "code",
   "execution_count": 18,
   "metadata": {},
   "outputs": [
    {
     "data": {
      "text/plain": [
       "[<div class=\"by_year\">\n",
       " <h3><a href=\"http://web.archive.org/web/20190826213936/https://www.nobelprize.org/nobel_prizes/chemistry/laureates/1985/\">The Nobel Prize in Chemistry 1985</a></h3>\n",
       " <p><a href=\"http://web.archive.org/web/20190826213936/https://www.nobelprize.org/nobel_prizes/chemistry/laureates/1985/hauptman-facts.html\">Herbert A. Hauptman</a> and <a href=\"http://web.archive.org/web/20190826213936/https://www.nobelprize.org/nobel_prizes/chemistry/laureates/1985/karle-facts.html\">Jerome Karle</a><br/>\n",
       " “for their outstanding achievements in the development of direct methods for the determination of crystal structures”</p>\n",
       " </div>, <div class=\"by_year\">\n",
       " <h3><a href=\"http://web.archive.org/web/20190826213936/https://www.nobelprize.org/nobel_prizes/medicine/laureates/1985/\">The Nobel Prize in Physiology or Medicine 1985</a></h3>\n",
       " <p><a href=\"http://web.archive.org/web/20190826213936/https://www.nobelprize.org/nobel_prizes/medicine/laureates/1985/brown-facts.html\">Michael S. Brown</a> and <a href=\"http://web.archive.org/web/20190826213936/https://www.nobelprize.org/nobel_prizes/medicine/laureates/1985/goldstein-facts.html\">Joseph L. Goldstein</a><br/>\n",
       " “for their discoveries concerning the regulation of cholesterol metabolism”</p>\n",
       " </div>]"
      ]
     },
     "execution_count": 18,
     "metadata": {},
     "output_type": "execute_result"
    }
   ],
   "source": [
    "# take a look\n",
    "award_nodes[200:202]"
   ]
  },
  {
   "cell_type": "code",
   "execution_count": 19,
   "metadata": {},
   "outputs": [],
   "source": [
    "award_node = award_nodes[200]"
   ]
  },
  {
   "cell_type": "code",
   "execution_count": 20,
   "metadata": {},
   "outputs": [
    {
     "data": {
      "text/html": [
       "<div class=\"by_year\">\n",
       " <h3>\n",
       "  <a href=\"http://web.archive.org/web/20190826213936/https://www.nobelprize.org/nobel_prizes/chemistry/laureates/1985/\">\n",
       "   The Nobel Prize in Chemistry 1985\n",
       "  </a>\n",
       " </h3>\n",
       " <p>\n",
       "  <a href=\"http://web.archive.org/web/20190826213936/https://www.nobelprize.org/nobel_prizes/chemistry/laureates/1985/hauptman-facts.html\">\n",
       "   Herbert A. Hauptman\n",
       "  </a>\n",
       "  and\n",
       "  <a href=\"http://web.archive.org/web/20190826213936/https://www.nobelprize.org/nobel_prizes/chemistry/laureates/1985/karle-facts.html\">\n",
       "   Jerome Karle\n",
       "  </a>\n",
       "  <br/>\n",
       "  “for their outstanding achievements in the development of direct methods for the determination of crystal structures”\n",
       " </p>\n",
       "</div>\n"
      ],
      "text/plain": [
       "<IPython.core.display.HTML object>"
      ]
     },
     "execution_count": 20,
     "metadata": {},
     "output_type": "execute_result"
    }
   ],
   "source": [
    "HTML(award_node.prettify())"
   ]
  },
  {
   "cell_type": "code",
   "execution_count": 21,
   "metadata": {},
   "outputs": [
    {
     "data": {
      "text/plain": [
       "[]"
      ]
     },
     "execution_count": 21,
     "metadata": {},
     "output_type": "execute_result"
    }
   ],
   "source": [
    "[node.text for node in award_node.select('h6 a')]"
   ]
  },
  {
   "cell_type": "code",
   "execution_count": 22,
   "metadata": {},
   "outputs": [
    {
     "data": {
      "text/plain": [
       "'Herbert A. Hauptman and Jerome Karle\\n“for their outstanding achievements in the development of direct methods for the determination of crystal structures”'"
      ]
     },
     "execution_count": 22,
     "metadata": {},
     "output_type": "execute_result"
    }
   ],
   "source": [
    "award_node.select_one('p').text"
   ]
  },
  {
   "cell_type": "code",
   "execution_count": 23,
   "metadata": {},
   "outputs": [
    {
     "name": "stdout",
     "output_type": "stream",
     "text": [
      "\"Herbert A. Hauptman and Jerome Karle\\n\\u201cfor their outstanding achievements in the development of direct methods for the determination of crystal structures\\u201d\"\n"
     ]
    }
   ],
   "source": [
    "print(json.dumps(award_node.select_one('p').text))"
   ]
  },
  {
   "cell_type": "code",
   "execution_count": 24,
   "metadata": {},
   "outputs": [
    {
     "data": {
      "text/plain": [
       "'Herbert A. Hauptman and Jerome Karle\\n“for their outstanding achievements in the development of direct methods for the determination of crystal structures'"
      ]
     },
     "execution_count": 24,
     "metadata": {},
     "output_type": "execute_result"
    }
   ],
   "source": [
    "award_node.select_one('p').text.lstrip('\\u201c').rstrip('\\u201d')"
   ]
  },
  {
   "cell_type": "code",
   "execution_count": 25,
   "metadata": {},
   "outputs": [],
   "source": [
    "def get_award_motivation(award_node):\n",
    "    award_node = award_node.select_one('p')\n",
    "    if not award_node:\n",
    "        return None\n",
    "    return award_node.text.lstrip('\\u201c').rstrip('\\u201d')"
   ]
  },
  {
   "cell_type": "code",
   "execution_count": 26,
   "metadata": {},
   "outputs": [],
   "source": [
    "def get_recipients(award_node):\n",
    "    return [node.text for node in award_node.select('h6 a')]"
   ]
  },
  {
   "cell_type": "code",
   "execution_count": 29,
   "metadata": {},
   "outputs": [],
   "source": [
    "def get_award_title(award_node):\n",
    "    return soup.select_one('title').text"
   ]
  },
  {
   "cell_type": "code",
   "execution_count": 50,
   "metadata": {},
   "outputs": [],
   "source": [
    "def get_award_year(award_node):\n",
    "    return soup.select_one('.by_year')"
   ]
  },
  {
   "cell_type": "code",
   "execution_count": 51,
   "metadata": {},
   "outputs": [],
   "source": [
    "# Now let's get all of the awards.\n",
    "awards = []\n",
    "for award_node in soup.select('.by_year'):\n",
    "    recipients = get_recipients(award_node)\n",
    "    awards.append(dict(\n",
    "        title=get_award_title(award_node),\n",
    "        year=get_award_year(award_node),\n",
    "        recipients=recipients,\n",
    "        num_recipients=len(recipients),\n",
    "        motivation=get_award_motivation(award_node)\n",
    "    ))"
   ]
  },
  {
   "cell_type": "code",
   "execution_count": 52,
   "metadata": {},
   "outputs": [],
   "source": [
    "df_awards_raw = pd.DataFrame(awards)"
   ]
  },
  {
   "cell_type": "code",
   "execution_count": 53,
   "metadata": {},
   "outputs": [
    {
     "name": "stdout",
     "output_type": "stream",
     "text": [
      "<class 'pandas.core.frame.DataFrame'>\n",
      "RangeIndex: 641 entries, 0 to 640\n",
      "Data columns (total 5 columns):\n",
      "motivation        640 non-null object\n",
      "num_recipients    641 non-null int64\n",
      "recipients        641 non-null object\n",
      "title             641 non-null object\n",
      "year              641 non-null object\n",
      "dtypes: int64(1), object(4)\n",
      "memory usage: 25.1+ KB\n"
     ]
    }
   ],
   "source": [
    "df_awards_raw.info()"
   ]
  },
  {
   "cell_type": "code",
   "execution_count": 54,
   "metadata": {},
   "outputs": [
    {
     "data": {
      "text/html": [
       "<div>\n",
       "<style scoped>\n",
       "    .dataframe tbody tr th:only-of-type {\n",
       "        vertical-align: middle;\n",
       "    }\n",
       "\n",
       "    .dataframe tbody tr th {\n",
       "        vertical-align: top;\n",
       "    }\n",
       "\n",
       "    .dataframe thead th {\n",
       "        text-align: right;\n",
       "    }\n",
       "</style>\n",
       "<table border=\"1\" class=\"dataframe\">\n",
       "  <thead>\n",
       "    <tr style=\"text-align: right;\">\n",
       "      <th></th>\n",
       "      <th>motivation</th>\n",
       "      <th>num_recipients</th>\n",
       "      <th>recipients</th>\n",
       "      <th>title</th>\n",
       "      <th>year</th>\n",
       "    </tr>\n",
       "  </thead>\n",
       "  <tbody>\n",
       "    <tr>\n",
       "      <th>0</th>\n",
       "      <td>The 2019 Nobel Prize in Physics has not been a...</td>\n",
       "      <td>0</td>\n",
       "      <td>[]</td>\n",
       "      <td>All Nobel Prizes</td>\n",
       "      <td>&lt;div class=\"by_year\"&gt;\n",
       "&lt;h3&gt;2019&lt;/h3&gt;\n",
       "&lt;h3&gt;&lt;a hre...</td>\n",
       "    </tr>\n",
       "    <tr>\n",
       "      <th>1</th>\n",
       "      <td>None</td>\n",
       "      <td>0</td>\n",
       "      <td>[]</td>\n",
       "      <td>All Nobel Prizes</td>\n",
       "      <td>&lt;div class=\"by_year\"&gt;\n",
       "&lt;h3&gt;2019&lt;/h3&gt;\n",
       "&lt;h3&gt;&lt;a hre...</td>\n",
       "    </tr>\n",
       "    <tr>\n",
       "      <th>2</th>\n",
       "      <td>for groundbreaking inventions in the field of ...</td>\n",
       "      <td>0</td>\n",
       "      <td>[]</td>\n",
       "      <td>All Nobel Prizes</td>\n",
       "      <td>&lt;div class=\"by_year\"&gt;\n",
       "&lt;h3&gt;2019&lt;/h3&gt;\n",
       "&lt;h3&gt;&lt;a hre...</td>\n",
       "    </tr>\n",
       "    <tr>\n",
       "      <th>3</th>\n",
       "      <td>Frances H. Arnold “for the directed evolution ...</td>\n",
       "      <td>0</td>\n",
       "      <td>[]</td>\n",
       "      <td>All Nobel Prizes</td>\n",
       "      <td>&lt;div class=\"by_year\"&gt;\n",
       "&lt;h3&gt;2019&lt;/h3&gt;\n",
       "&lt;h3&gt;&lt;a hre...</td>\n",
       "    </tr>\n",
       "    <tr>\n",
       "      <th>4</th>\n",
       "      <td>The 2018 Nobel Prize in Literature has not bee...</td>\n",
       "      <td>0</td>\n",
       "      <td>[]</td>\n",
       "      <td>All Nobel Prizes</td>\n",
       "      <td>&lt;div class=\"by_year\"&gt;\n",
       "&lt;h3&gt;2019&lt;/h3&gt;\n",
       "&lt;h3&gt;&lt;a hre...</td>\n",
       "    </tr>\n",
       "  </tbody>\n",
       "</table>\n",
       "</div>"
      ],
      "text/plain": [
       "                                          motivation  num_recipients  \\\n",
       "0  The 2019 Nobel Prize in Physics has not been a...               0   \n",
       "1                                               None               0   \n",
       "2  for groundbreaking inventions in the field of ...               0   \n",
       "3  Frances H. Arnold “for the directed evolution ...               0   \n",
       "4  The 2018 Nobel Prize in Literature has not bee...               0   \n",
       "\n",
       "  recipients             title  \\\n",
       "0         []  All Nobel Prizes   \n",
       "1         []  All Nobel Prizes   \n",
       "2         []  All Nobel Prizes   \n",
       "3         []  All Nobel Prizes   \n",
       "4         []  All Nobel Prizes   \n",
       "\n",
       "                                                year  \n",
       "0  <div class=\"by_year\">\n",
       "<h3>2019</h3>\n",
       "<h3><a hre...  \n",
       "1  <div class=\"by_year\">\n",
       "<h3>2019</h3>\n",
       "<h3><a hre...  \n",
       "2  <div class=\"by_year\">\n",
       "<h3>2019</h3>\n",
       "<h3><a hre...  \n",
       "3  <div class=\"by_year\">\n",
       "<h3>2019</h3>\n",
       "<h3><a hre...  \n",
       "4  <div class=\"by_year\">\n",
       "<h3>2019</h3>\n",
       "<h3><a hre...  "
      ]
     },
     "execution_count": 54,
     "metadata": {},
     "output_type": "execute_result"
    }
   ],
   "source": [
    "df_awards_raw.head()"
   ]
  },
  {
   "cell_type": "code",
   "execution_count": 56,
   "metadata": {},
   "outputs": [],
   "source": [
    "# EDA\n",
    "# df_awards_raw.year.min()"
   ]
  },
  {
   "cell_type": "code",
   "execution_count": 57,
   "metadata": {},
   "outputs": [
    {
     "data": {
      "text/plain": [
       "0    641\n",
       "Name: num_recipients, dtype: int64"
      ]
     },
     "execution_count": 57,
     "metadata": {},
     "output_type": "execute_result"
    }
   ],
   "source": [
    "df_awards_raw.num_recipients.value_counts()"
   ]
  },
  {
   "cell_type": "code",
   "execution_count": 59,
   "metadata": {},
   "outputs": [
    {
     "data": {
      "text/html": [
       "<div>\n",
       "<style scoped>\n",
       "    .dataframe tbody tr th:only-of-type {\n",
       "        vertical-align: middle;\n",
       "    }\n",
       "\n",
       "    .dataframe tbody tr th {\n",
       "        vertical-align: top;\n",
       "    }\n",
       "\n",
       "    .dataframe thead th {\n",
       "        text-align: right;\n",
       "    }\n",
       "</style>\n",
       "<table border=\"1\" class=\"dataframe\">\n",
       "  <thead>\n",
       "    <tr style=\"text-align: right;\">\n",
       "      <th></th>\n",
       "      <th>motivation</th>\n",
       "      <th>num_recipients</th>\n",
       "      <th>recipients</th>\n",
       "      <th>title</th>\n",
       "      <th>year</th>\n",
       "    </tr>\n",
       "  </thead>\n",
       "  <tbody>\n",
       "    <tr>\n",
       "      <th>0</th>\n",
       "      <td>The 2019 Nobel Prize in Physics has not been a...</td>\n",
       "      <td>0</td>\n",
       "      <td>[]</td>\n",
       "      <td>All Nobel Prizes</td>\n",
       "      <td>&lt;div class=\"by_year\"&gt;\n",
       "&lt;h3&gt;2019&lt;/h3&gt;\n",
       "&lt;h3&gt;&lt;a hre...</td>\n",
       "    </tr>\n",
       "    <tr>\n",
       "      <th>1</th>\n",
       "      <td>None</td>\n",
       "      <td>0</td>\n",
       "      <td>[]</td>\n",
       "      <td>All Nobel Prizes</td>\n",
       "      <td>&lt;div class=\"by_year\"&gt;\n",
       "&lt;h3&gt;2019&lt;/h3&gt;\n",
       "&lt;h3&gt;&lt;a hre...</td>\n",
       "    </tr>\n",
       "    <tr>\n",
       "      <th>2</th>\n",
       "      <td>for groundbreaking inventions in the field of ...</td>\n",
       "      <td>0</td>\n",
       "      <td>[]</td>\n",
       "      <td>All Nobel Prizes</td>\n",
       "      <td>&lt;div class=\"by_year\"&gt;\n",
       "&lt;h3&gt;2019&lt;/h3&gt;\n",
       "&lt;h3&gt;&lt;a hre...</td>\n",
       "    </tr>\n",
       "    <tr>\n",
       "      <th>3</th>\n",
       "      <td>Frances H. Arnold “for the directed evolution ...</td>\n",
       "      <td>0</td>\n",
       "      <td>[]</td>\n",
       "      <td>All Nobel Prizes</td>\n",
       "      <td>&lt;div class=\"by_year\"&gt;\n",
       "&lt;h3&gt;2019&lt;/h3&gt;\n",
       "&lt;h3&gt;&lt;a hre...</td>\n",
       "    </tr>\n",
       "    <tr>\n",
       "      <th>4</th>\n",
       "      <td>The 2018 Nobel Prize in Literature has not bee...</td>\n",
       "      <td>0</td>\n",
       "      <td>[]</td>\n",
       "      <td>All Nobel Prizes</td>\n",
       "      <td>&lt;div class=\"by_year\"&gt;\n",
       "&lt;h3&gt;2019&lt;/h3&gt;\n",
       "&lt;h3&gt;&lt;a hre...</td>\n",
       "    </tr>\n",
       "  </tbody>\n",
       "</table>\n",
       "</div>"
      ],
      "text/plain": [
       "                                          motivation  num_recipients  \\\n",
       "0  The 2019 Nobel Prize in Physics has not been a...               0   \n",
       "1                                               None               0   \n",
       "2  for groundbreaking inventions in the field of ...               0   \n",
       "3  Frances H. Arnold “for the directed evolution ...               0   \n",
       "4  The 2018 Nobel Prize in Literature has not bee...               0   \n",
       "\n",
       "  recipients             title  \\\n",
       "0         []  All Nobel Prizes   \n",
       "1         []  All Nobel Prizes   \n",
       "2         []  All Nobel Prizes   \n",
       "3         []  All Nobel Prizes   \n",
       "4         []  All Nobel Prizes   \n",
       "\n",
       "                                                year  \n",
       "0  <div class=\"by_year\">\n",
       "<h3>2019</h3>\n",
       "<h3><a hre...  \n",
       "1  <div class=\"by_year\">\n",
       "<h3>2019</h3>\n",
       "<h3><a hre...  \n",
       "2  <div class=\"by_year\">\n",
       "<h3>2019</h3>\n",
       "<h3><a hre...  \n",
       "3  <div class=\"by_year\">\n",
       "<h3>2019</h3>\n",
       "<h3><a hre...  \n",
       "4  <div class=\"by_year\">\n",
       "<h3>2019</h3>\n",
       "<h3><a hre...  "
      ]
     },
     "execution_count": 59,
     "metadata": {},
     "output_type": "execute_result"
    }
   ],
   "source": [
    "df_awards_raw[df_awards_raw.num_recipients == 0].head()"
   ]
  },
  {
   "cell_type": "code",
   "execution_count": null,
   "metadata": {},
   "outputs": [],
   "source": [
    "# df_awards_past = df_awards_raw[df_awards_raw.year != 2018]\n",
    "# df_awards_past.info()"
   ]
  },
  {
   "cell_type": "code",
   "execution_count": 60,
   "metadata": {},
   "outputs": [
    {
     "ename": "NameError",
     "evalue": "name 'df_awards_past' is not defined",
     "output_type": "error",
     "traceback": [
      "\u001b[1;31m---------------------------------------------------------------------------\u001b[0m",
      "\u001b[1;31mNameError\u001b[0m                                 Traceback (most recent call last)",
      "\u001b[1;32m<ipython-input-60-faf06559fcc2>\u001b[0m in \u001b[0;36m<module>\u001b[1;34m()\u001b[0m\n\u001b[1;32m----> 1\u001b[1;33m \u001b[0mdf_awards_past\u001b[0m\u001b[1;33m[\u001b[0m\u001b[0mdf_awards_past\u001b[0m\u001b[1;33m.\u001b[0m\u001b[0mmotivation\u001b[0m\u001b[1;33m.\u001b[0m\u001b[0misnull\u001b[0m\u001b[1;33m(\u001b[0m\u001b[1;33m)\u001b[0m\u001b[1;33m]\u001b[0m\u001b[1;33m.\u001b[0m\u001b[0mhead\u001b[0m\u001b[1;33m(\u001b[0m\u001b[1;33m)\u001b[0m\u001b[1;33m\u001b[0m\u001b[0m\n\u001b[0m",
      "\u001b[1;31mNameError\u001b[0m: name 'df_awards_past' is not defined"
     ]
    }
   ],
   "source": [
    "# df_awards_past[df_awards_past.motivation.isnull()].head()"
   ]
  },
  {
   "cell_type": "code",
   "execution_count": 61,
   "metadata": {},
   "outputs": [],
   "source": [
    "# Other structured data formats: JSON and CSV"
   ]
  },
  {
   "cell_type": "code",
   "execution_count": null,
   "metadata": {},
   "outputs": [],
   "source": [
    "# csv\n",
    "df_awards_past.to_csv('awards.csv', index=False)\n",
    "with open('awards.csv', 'r') as f:\n",
    "    print(f.read()[:1000])"
   ]
  },
  {
   "cell_type": "code",
   "execution_count": null,
   "metadata": {},
   "outputs": [],
   "source": [
    "pd.read_csv('awards.csv').recipients.iloc[20]"
   ]
  },
  {
   "cell_type": "code",
   "execution_count": null,
   "metadata": {},
   "outputs": [],
   "source": [
    "# json\n",
    "df_awards_past.to_json('awards.json', orient='records')\n",
    "\n",
    "with open('awards.json', 'r') as f:\n",
    "    print(f.read()[:1000])"
   ]
  },
  {
   "cell_type": "code",
   "execution_count": null,
   "metadata": {},
   "outputs": [],
   "source": [
    "# pickle\n",
    "df_awards_past.to_pickle('awards.pkl', protocol=0)\n",
    "with open('awards.pkl', 'r', encoding='latin1') as f:\n",
    "    print(f.read()[:200])"
   ]
  },
  {
   "cell_type": "code",
   "execution_count": null,
   "metadata": {},
   "outputs": [],
   "source": [
    "# formatted data output\n",
    "for idx, row in df_awards_past.sort_values('year').iterrows():\n",
    "    if 'Physics' in row['title']:\n",
    "        print('{}: {}'.format(\n",
    "            row['year'],\n",
    "            ', '.join(row['recipients'])))"
   ]
  },
  {
   "cell_type": "code",
   "execution_count": null,
   "metadata": {},
   "outputs": [],
   "source": [
    "# https://harvard-iacs.github.io/2018-CS109A/sections/section-1/solutions/"
   ]
  }
 ],
 "metadata": {
  "kernelspec": {
   "display_name": "Python 3",
   "language": "python",
   "name": "python3"
  },
  "language_info": {
   "codemirror_mode": {
    "name": "ipython",
    "version": 3
   },
   "file_extension": ".py",
   "mimetype": "text/x-python",
   "name": "python",
   "nbconvert_exporter": "python",
   "pygments_lexer": "ipython3",
   "version": "3.5.5"
  }
 },
 "nbformat": 4,
 "nbformat_minor": 2
}
