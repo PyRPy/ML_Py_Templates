{
 "cells": [
  {
   "cell_type": "code",
   "execution_count": 1,
   "metadata": {},
   "outputs": [],
   "source": [
    "# Name scope\n",
    "import warnings\n",
    "warnings.filterwarnings(\"ignore\")"
   ]
  },
  {
   "cell_type": "code",
   "execution_count": 2,
   "metadata": {},
   "outputs": [],
   "source": [
    "import tensorflow as tf"
   ]
  },
  {
   "cell_type": "code",
   "execution_count": 3,
   "metadata": {},
   "outputs": [],
   "source": [
    "with tf.name_scope(\"a_name_scope\"):\n",
    "    initializer = tf.constant_initializer(value=1)\n",
    "    var1 = tf.get_variable(name='var1', shape=[1], dtype=tf.float32, initializer=initializer)\n",
    "    var2 = tf.Variable(name='var2', initial_value=[2], dtype=tf.float32)\n",
    "    var21 = tf.Variable(name='var2', initial_value=[2.1], dtype=tf.float32)\n",
    "    var22 = tf.Variable(name='var2', initial_value=[2.2], dtype=tf.float32)"
   ]
  },
  {
   "cell_type": "code",
   "execution_count": 5,
   "metadata": {},
   "outputs": [
    {
     "name": "stdout",
     "output_type": "stream",
     "text": [
      "var1:0\n",
      "[1.]\n",
      "a_name_scope/var2:0\n",
      "[2.]\n",
      "a_name_scope/var2_1:0\n",
      "[2.1]\n",
      "a_name_scope/var2_2:0\n",
      "[2.2]\n"
     ]
    }
   ],
   "source": [
    "with tf.Session() as sess:\n",
    "    sess.run(tf.initialize_all_variables())\n",
    "    print(var1.name)        # var1:0\n",
    "    print(sess.run(var1))   # [ 1.]\n",
    "    print(var2.name)        # a_name_scope/var2:0\n",
    "    print(sess.run(var2))   # [ 2.]\n",
    "    print(var21.name)       # a_name_scope/var2_1:0\n",
    "    print(sess.run(var21))  # [ 2.0999999]\n",
    "    print(var22.name)       # a_name_scope/var2_2:0\n",
    "    print(sess.run(var22))  # [ 2.20000005]"
   ]
  },
  {
   "cell_type": "code",
   "execution_count": 6,
   "metadata": {},
   "outputs": [
    {
     "name": "stdout",
     "output_type": "stream",
     "text": [
      "a_variable_scope/var3:0\n",
      "[3.]\n",
      "a_variable_scope/var3:0\n",
      "[3.]\n",
      "a_variable_scope/var4:0\n",
      "[4.]\n",
      "a_variable_scope/var4_1:0\n",
      "[4.]\n"
     ]
    }
   ],
   "source": [
    "with tf.variable_scope(\"a_variable_scope\") as scope:\n",
    "    initializer = tf.constant_initializer(value=3)\n",
    "    var3 = tf.get_variable(name='var3', shape=[1], dtype=tf.float32, initializer=initializer)\n",
    "    scope.reuse_variables()\n",
    "    var3_reuse = tf.get_variable(name='var3',)\n",
    "    var4 = tf.Variable(name='var4', initial_value=[4], dtype=tf.float32)\n",
    "    var4_reuse = tf.Variable(name='var4', initial_value=[4], dtype=tf.float32)\n",
    "    \n",
    "with tf.Session() as sess:\n",
    "    sess.run(tf.global_variables_initializer())\n",
    "    print(var3.name)            # a_variable_scope/var3:0\n",
    "    print(sess.run(var3))       # [ 3.]\n",
    "    print(var3_reuse.name)      # a_variable_scope/var3:0\n",
    "    print(sess.run(var3_reuse)) # [ 3.]\n",
    "    print(var4.name)            # a_variable_scope/var4:0\n",
    "    print(sess.run(var4))       # [ 4.]\n",
    "    print(var4_reuse.name)      # a_variable_scope/var4_1:0\n",
    "    print(sess.run(var4_reuse)) # [ 4.]"
   ]
  },
  {
   "cell_type": "code",
   "execution_count": null,
   "metadata": {},
   "outputs": [],
   "source": [
    "# applied to RNN"
   ]
  },
  {
   "cell_type": "code",
   "execution_count": 7,
   "metadata": {},
   "outputs": [],
   "source": [
    "class TrainConfig:\n",
    "    batch_size = 20\n",
    "    time_steps = 20\n",
    "    input_size = 10\n",
    "    output_size = 2\n",
    "    cell_size = 11\n",
    "    learning_rate = 0.01\n",
    "\n",
    "\n",
    "class TestConfig(TrainConfig):\n",
    "    time_steps = 1\n",
    "    \n",
    "train_config = TrainConfig()\n",
    "test_config = TestConfig()"
   ]
  },
  {
   "cell_type": "code",
   "execution_count": 9,
   "metadata": {},
   "outputs": [],
   "source": [
    "class RNN(object):\n",
    "\n",
    "    def __init__(self, config):\n",
    "        self._batch_size = config.batch_size\n",
    "        self._time_steps = config.time_steps\n",
    "        self._input_size = config.input_size\n",
    "        self._output_size = config.output_size\n",
    "        self._cell_size = config.cell_size\n",
    "        self._lr = config.learning_rate\n",
    "        self._built_RNN()\n",
    "\n",
    "    def _built_RNN(self):\n",
    "        with tf.variable_scope('inputs'):\n",
    "            self._xs = tf.placeholder(tf.float32, [self._batch_size, self._time_steps, self._input_size], name='xs')\n",
    "            self._ys = tf.placeholder(tf.float32, [self._batch_size, self._time_steps, self._output_size], name='ys')\n",
    "        with tf.name_scope('RNN'):\n",
    "            with tf.variable_scope('input_layer'):\n",
    "                l_in_x = tf.reshape(self._xs, [-1, self._input_size], name='2_2D')  # (batch*n_step, in_size)\n",
    "                # Ws (in_size, cell_size)\n",
    "                Wi = self._weight_variable([self._input_size, self._cell_size])\n",
    "                print(Wi.name)\n",
    "                # bs (cell_size, )\n",
    "                bi = self._bias_variable([self._cell_size, ])\n",
    "                # l_in_y = (batch * n_steps, cell_size)\n",
    "                with tf.name_scope('Wx_plus_b'):\n",
    "                    l_in_y = tf.matmul(l_in_x, Wi) + bi\n",
    "                l_in_y = tf.reshape(l_in_y, [-1, self._time_steps, self._cell_size], name='2_3D')\n",
    "\n",
    "            with tf.variable_scope('cell'):\n",
    "                cell = tf.contrib.rnn.BasicLSTMCell(self._cell_size)\n",
    "                with tf.name_scope('initial_state'):\n",
    "                    self._cell_initial_state = cell.zero_state(self._batch_size, dtype=tf.float32)\n",
    "\n",
    "                self.cell_outputs = []\n",
    "                cell_state = self._cell_initial_state\n",
    "                for t in range(self._time_steps):\n",
    "                    if t > 0: tf.get_variable_scope().reuse_variables()\n",
    "                    cell_output, cell_state = cell(l_in_y[:, t, :], cell_state)\n",
    "                    self.cell_outputs.append(cell_output)\n",
    "                self._cell_final_state = cell_state\n",
    "\n",
    "            with tf.variable_scope('output_layer'):\n",
    "                # cell_outputs_reshaped (BATCH*TIME_STEP, CELL_SIZE)\n",
    "                cell_outputs_reshaped = tf.reshape(tf.concat(self.cell_outputs, 1), [-1, self._cell_size])\n",
    "                Wo = self._weight_variable((self._cell_size, self._output_size))\n",
    "                bo = self._bias_variable((self._output_size,))\n",
    "                product = tf.matmul(cell_outputs_reshaped, Wo) + bo\n",
    "                # _pred shape (batch*time_step, output_size)\n",
    "                self._pred = tf.nn.relu(product)    # for displacement\n",
    "\n",
    "        with tf.name_scope('cost'):\n",
    "            _pred = tf.reshape(self._pred, [self._batch_size, self._time_steps, self._output_size])\n",
    "            mse = self.ms_error(_pred, self._ys)\n",
    "            mse_ave_across_batch = tf.reduce_mean(mse, 0)\n",
    "            mse_sum_across_time = tf.reduce_sum(mse_ave_across_batch, 0)\n",
    "            self._cost = mse_sum_across_time\n",
    "            self._cost_ave_time = self._cost / self._time_steps\n",
    "\n",
    "        with tf.variable_scope('trian'):\n",
    "            self._lr = tf.convert_to_tensor(self._lr)\n",
    "            self.train_op = tf.train.AdamOptimizer(self._lr).minimize(self._cost)\n",
    "\n",
    "    @staticmethod\n",
    "    def ms_error(y_target, y_pre):\n",
    "        return tf.square(tf.subtract(y_target, y_pre))\n",
    "\n",
    "    @staticmethod\n",
    "    def _weight_variable(shape, name='weights'):\n",
    "        initializer = tf.random_normal_initializer(mean=0., stddev=0.5, )\n",
    "        return tf.get_variable(shape=shape, initializer=initializer, name=name)\n",
    "\n",
    "    @staticmethod\n",
    "    def _bias_variable(shape, name='biases'):\n",
    "        initializer = tf.constant_initializer(0.1)\n",
    "        return tf.get_variable(name=name, shape=shape, initializer=initializer)"
   ]
  },
  {
   "cell_type": "code",
   "execution_count": 10,
   "metadata": {},
   "outputs": [
    {
     "name": "stdout",
     "output_type": "stream",
     "text": [
      "rnn/input_layer/weights:0\n",
      "rnn/input_layer/weights:0\n"
     ]
    }
   ],
   "source": [
    "with tf.variable_scope('rnn') as scope:\n",
    "    sess = tf.Session()\n",
    "    train_rnn = RNN(train_config)\n",
    "    scope.reuse_variables()\n",
    "    test_rnn = RNN(test_config)\n",
    "    sess.run(tf.global_variables_initializer())"
   ]
  },
  {
   "cell_type": "code",
   "execution_count": null,
   "metadata": {},
   "outputs": [],
   "source": [
    "# https://github.com/MorvanZhou/tutorials/blob/master/tensorflowTUT/tf22_scope/tf22_RNN_scope.py"
   ]
  }
 ],
 "metadata": {
  "kernelspec": {
   "display_name": "Python 3",
   "language": "python",
   "name": "python3"
  },
  "language_info": {
   "codemirror_mode": {
    "name": "ipython",
    "version": 3
   },
   "file_extension": ".py",
   "mimetype": "text/x-python",
   "name": "python",
   "nbconvert_exporter": "python",
   "pygments_lexer": "ipython3",
   "version": "3.5.5"
  }
 },
 "nbformat": 4,
 "nbformat_minor": 2
}
