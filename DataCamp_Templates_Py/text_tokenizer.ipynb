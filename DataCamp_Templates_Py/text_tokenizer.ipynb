{
  "nbformat": 4,
  "nbformat_minor": 0,
  "metadata": {
    "colab": {
      "name": "text_tokenizer.ipynb",
      "provenance": []
    },
    "kernelspec": {
      "name": "python3",
      "display_name": "Python 3"
    },
    "language_info": {
      "name": "python"
    }
  },
  "cells": [
    {
      "cell_type": "code",
      "execution_count": 32,
      "metadata": {
        "id": "4uJgEQuCAjEr"
      },
      "outputs": [],
      "source": [
        "# LSTM example\n",
        "# from Datacamp, Miguel Esteban"
      ]
    },
    {
      "cell_type": "code",
      "source": [
        "import numpy as np"
      ],
      "metadata": {
        "id": "MeJNYfQSF-iG"
      },
      "execution_count": 22,
      "outputs": []
    },
    {
      "cell_type": "code",
      "source": [
        "text = \"Hi, today it is very cold\"\n",
        "seq_len = 3\n",
        "words = text.split()"
      ],
      "metadata": {
        "id": "jBp1AZ3LA0Sx"
      },
      "execution_count": 2,
      "outputs": []
    },
    {
      "cell_type": "code",
      "source": [
        "words"
      ],
      "metadata": {
        "colab": {
          "base_uri": "https://localhost:8080/"
        },
        "id": "cbddj5k0BHhZ",
        "outputId": "b4783985-b289-4b6b-c1a0-fa37463e6ed6"
      },
      "execution_count": 3,
      "outputs": [
        {
          "output_type": "execute_result",
          "data": {
            "text/plain": [
              "['Hi,', 'today', 'it', 'is', 'very', 'cold']"
            ]
          },
          "metadata": {},
          "execution_count": 3
        }
      ]
    },
    {
      "cell_type": "code",
      "source": [
        "lines = []\n",
        "for i in range(seq_len, len(words) + 1):\n",
        "  line = ' '.join(words[i-seq_len:i])\n",
        "  lines.append(line)"
      ],
      "metadata": {
        "id": "PbUfXAYWBIyx"
      },
      "execution_count": 5,
      "outputs": []
    },
    {
      "cell_type": "code",
      "source": [
        "lines"
      ],
      "metadata": {
        "colab": {
          "base_uri": "https://localhost:8080/"
        },
        "id": "Abli2UtEBap6",
        "outputId": "a4200e42-44fc-4084-811e-b2d41daae544"
      },
      "execution_count": 6,
      "outputs": [
        {
          "output_type": "execute_result",
          "data": {
            "text/plain": [
              "['Hi, today it', 'today it is', 'it is very', 'is very cold']"
            ]
          },
          "metadata": {},
          "execution_count": 6
        }
      ]
    },
    {
      "cell_type": "code",
      "source": [
        "# tokenizer\n",
        "from keras.preprocessing.text import Tokenizer"
      ],
      "metadata": {
        "id": "lxSl1Y3SBhNi"
      },
      "execution_count": 8,
      "outputs": []
    },
    {
      "cell_type": "code",
      "source": [
        "tokenizer = Tokenizer()"
      ],
      "metadata": {
        "id": "Wmn7fEAcBwCy"
      },
      "execution_count": 9,
      "outputs": []
    },
    {
      "cell_type": "code",
      "source": [
        "# fit the lines\n",
        "tokenizer.fit_on_texts(lines)\n",
        "sequences = tokenizer.texts_to_sequences(lines)"
      ],
      "metadata": {
        "id": "ihgMOhOHCAqC"
      },
      "execution_count": 10,
      "outputs": []
    },
    {
      "cell_type": "code",
      "source": [
        "sequences"
      ],
      "metadata": {
        "colab": {
          "base_uri": "https://localhost:8080/"
        },
        "id": "ByPdCOO0CPFp",
        "outputId": "d0494aaf-5186-4fe8-e7a7-d01c5a929d68"
      },
      "execution_count": 11,
      "outputs": [
        {
          "output_type": "execute_result",
          "data": {
            "text/plain": [
              "[[5, 3, 1], [3, 1, 2], [1, 2, 4], [2, 4, 6]]"
            ]
          },
          "metadata": {},
          "execution_count": 11
        }
      ]
    },
    {
      "cell_type": "code",
      "source": [
        "print(tokenizer.index_word)"
      ],
      "metadata": {
        "colab": {
          "base_uri": "https://localhost:8080/"
        },
        "id": "0lPluRgNCRJh",
        "outputId": "fb3cce7e-56d6-49c0-9da2-d8c52a8e6c97"
      },
      "execution_count": 12,
      "outputs": [
        {
          "output_type": "stream",
          "name": "stdout",
          "text": [
            "{1: 'it', 2: 'is', 3: 'today', 4: 'very', 5: 'hi', 6: 'cold'}\n"
          ]
        }
      ]
    },
    {
      "cell_type": "code",
      "source": [
        "from keras.layers import Dense, LSTM, Embedding\n",
        "from keras.models import Sequential"
      ],
      "metadata": {
        "id": "m7GwLEDiCWMy"
      },
      "execution_count": 17,
      "outputs": []
    },
    {
      "cell_type": "code",
      "source": [
        "model = Sequential()"
      ],
      "metadata": {
        "id": "cAaaaMu-CfnJ"
      },
      "execution_count": 18,
      "outputs": []
    },
    {
      "cell_type": "code",
      "source": [
        "vocab_size = len(tokenizer.word_index) + 1\n",
        "model.add(Embedding(input_dim=vocab_size, output_dim = 8, input_length=2))\n",
        "model.add(LSTM(8))"
      ],
      "metadata": {
        "id": "WFs884aZCoEZ"
      },
      "execution_count": 19,
      "outputs": []
    },
    {
      "cell_type": "code",
      "source": [
        "model.add(Dense(8, activation='relu'))\n",
        "model.add(Dense(vocab_size, activation='softmax'))"
      ],
      "metadata": {
        "id": "T6JXigy9C6tK"
      },
      "execution_count": 20,
      "outputs": []
    },
    {
      "cell_type": "code",
      "source": [
        "model.summary()"
      ],
      "metadata": {
        "colab": {
          "base_uri": "https://localhost:8080/"
        },
        "id": "8uDndnXIDw8q",
        "outputId": "4af43ef7-8be5-4983-e2e5-148e483ba679"
      },
      "execution_count": 21,
      "outputs": [
        {
          "output_type": "stream",
          "name": "stdout",
          "text": [
            "Model: \"sequential\"\n",
            "_________________________________________________________________\n",
            " Layer (type)                Output Shape              Param #   \n",
            "=================================================================\n",
            " embedding (Embedding)       (None, 2, 8)              56        \n",
            "                                                                 \n",
            " lstm (LSTM)                 (None, 8)                 544       \n",
            "                                                                 \n",
            " dense (Dense)               (None, 8)                 72        \n",
            "                                                                 \n",
            " dense_1 (Dense)             (None, 7)                 63        \n",
            "                                                                 \n",
            "=================================================================\n",
            "Total params: 735\n",
            "Trainable params: 735\n",
            "Non-trainable params: 0\n",
            "_________________________________________________________________\n"
          ]
        }
      ]
    },
    {
      "cell_type": "code",
      "source": [
        "def predict_text(test_text, model=model):\n",
        "  if len(test_text.split()) != 3:\n",
        "    print('Text input should be 3 words!')\n",
        "    return False \n",
        "\n",
        "  test_seq = tokenizer.texts_to_sequences([test_text])\n",
        "  test_seq = np.array(test_seq)\n",
        "\n",
        "  pred = model.predict(test_seq).argmax(axis = 1)[0]\n",
        "\n",
        "  return tokenizer.index_word[pred]"
      ],
      "metadata": {
        "id": "rEIF4WMLD_54"
      },
      "execution_count": 30,
      "outputs": []
    },
    {
      "cell_type": "code",
      "source": [
        "predict_text('hi good morning')"
      ],
      "metadata": {
        "colab": {
          "base_uri": "https://localhost:8080/",
          "height": 36
        },
        "id": "eLHuZUPMGTCg",
        "outputId": "9a14309c-d4dc-4be1-e4de-8fd536494d22"
      },
      "execution_count": 27,
      "outputs": [
        {
          "output_type": "execute_result",
          "data": {
            "application/vnd.google.colaboratory.intrinsic+json": {
              "type": "string"
            },
            "text/plain": [
              "'is'"
            ]
          },
          "metadata": {},
          "execution_count": 27
        }
      ]
    },
    {
      "cell_type": "code",
      "source": [
        "# predict_text('it is very')"
      ],
      "metadata": {
        "id": "eld_1NS9G-uI"
      },
      "execution_count": 33,
      "outputs": []
    }
  ]
}